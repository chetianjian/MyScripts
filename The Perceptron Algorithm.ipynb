{
 "cells": [
  {
   "cell_type": "code",
   "execution_count": 1,
   "id": "4a4ffd87",
   "metadata": {
    "ExecuteTime": {
     "end_time": "2022-07-24T06:37:23.657309Z",
     "start_time": "2022-07-24T06:37:22.697268Z"
    }
   },
   "outputs": [],
   "source": [
    "import numpy as np\n",
    "import pandas as pd\n",
    "import matplotlib.pyplot as plt"
   ]
  },
  {
   "cell_type": "code",
   "execution_count": 2,
   "id": "3b693204",
   "metadata": {
    "ExecuteTime": {
     "end_time": "2022-07-24T06:37:23.689309Z",
     "start_time": "2022-07-24T06:37:23.659310Z"
    }
   },
   "outputs": [
    {
     "data": {
      "text/html": [
       "<div>\n",
       "<style scoped>\n",
       "    .dataframe tbody tr th:only-of-type {\n",
       "        vertical-align: middle;\n",
       "    }\n",
       "\n",
       "    .dataframe tbody tr th {\n",
       "        vertical-align: top;\n",
       "    }\n",
       "\n",
       "    .dataframe thead th {\n",
       "        text-align: right;\n",
       "    }\n",
       "</style>\n",
       "<table border=\"1\" class=\"dataframe\">\n",
       "  <thead>\n",
       "    <tr style=\"text-align: right;\">\n",
       "      <th></th>\n",
       "      <th>fixed.acidity</th>\n",
       "      <th>volatile.acidity</th>\n",
       "      <th>citric.acid</th>\n",
       "      <th>residual.sugar</th>\n",
       "      <th>chlorides</th>\n",
       "      <th>free.sulfur.dioxide</th>\n",
       "      <th>total.sulfur.dioxide</th>\n",
       "      <th>density</th>\n",
       "      <th>pH</th>\n",
       "      <th>sulphates</th>\n",
       "      <th>alcohol</th>\n",
       "      <th>quality</th>\n",
       "      <th>wine</th>\n",
       "      <th>color</th>\n",
       "    </tr>\n",
       "  </thead>\n",
       "  <tbody>\n",
       "    <tr>\n",
       "      <th>0</th>\n",
       "      <td>6.2</td>\n",
       "      <td>0.28</td>\n",
       "      <td>0.33</td>\n",
       "      <td>1.7</td>\n",
       "      <td>0.029</td>\n",
       "      <td>24.0</td>\n",
       "      <td>111.0</td>\n",
       "      <td>0.99000</td>\n",
       "      <td>3.24</td>\n",
       "      <td>0.50</td>\n",
       "      <td>12.1</td>\n",
       "      <td>6</td>\n",
       "      <td>white</td>\n",
       "      <td>False</td>\n",
       "    </tr>\n",
       "    <tr>\n",
       "      <th>1</th>\n",
       "      <td>6.2</td>\n",
       "      <td>0.33</td>\n",
       "      <td>0.19</td>\n",
       "      <td>5.6</td>\n",
       "      <td>0.042</td>\n",
       "      <td>22.0</td>\n",
       "      <td>143.0</td>\n",
       "      <td>0.99425</td>\n",
       "      <td>3.15</td>\n",
       "      <td>0.63</td>\n",
       "      <td>9.9</td>\n",
       "      <td>5</td>\n",
       "      <td>white</td>\n",
       "      <td>False</td>\n",
       "    </tr>\n",
       "    <tr>\n",
       "      <th>2</th>\n",
       "      <td>7.0</td>\n",
       "      <td>0.32</td>\n",
       "      <td>0.24</td>\n",
       "      <td>6.2</td>\n",
       "      <td>0.048</td>\n",
       "      <td>31.0</td>\n",
       "      <td>228.0</td>\n",
       "      <td>0.99570</td>\n",
       "      <td>3.23</td>\n",
       "      <td>0.62</td>\n",
       "      <td>9.4</td>\n",
       "      <td>6</td>\n",
       "      <td>white</td>\n",
       "      <td>False</td>\n",
       "    </tr>\n",
       "    <tr>\n",
       "      <th>3</th>\n",
       "      <td>10.4</td>\n",
       "      <td>0.64</td>\n",
       "      <td>0.24</td>\n",
       "      <td>2.8</td>\n",
       "      <td>0.105</td>\n",
       "      <td>29.0</td>\n",
       "      <td>53.0</td>\n",
       "      <td>0.99980</td>\n",
       "      <td>3.24</td>\n",
       "      <td>0.67</td>\n",
       "      <td>9.9</td>\n",
       "      <td>5</td>\n",
       "      <td>red</td>\n",
       "      <td>True</td>\n",
       "    </tr>\n",
       "    <tr>\n",
       "      <th>4</th>\n",
       "      <td>6.2</td>\n",
       "      <td>0.28</td>\n",
       "      <td>0.27</td>\n",
       "      <td>10.3</td>\n",
       "      <td>0.030</td>\n",
       "      <td>26.0</td>\n",
       "      <td>108.0</td>\n",
       "      <td>0.99388</td>\n",
       "      <td>3.20</td>\n",
       "      <td>0.36</td>\n",
       "      <td>10.7</td>\n",
       "      <td>6</td>\n",
       "      <td>white</td>\n",
       "      <td>False</td>\n",
       "    </tr>\n",
       "  </tbody>\n",
       "</table>\n",
       "</div>"
      ],
      "text/plain": [
       "   fixed.acidity  volatile.acidity  citric.acid  residual.sugar  chlorides  \\\n",
       "0            6.2              0.28         0.33             1.7      0.029   \n",
       "1            6.2              0.33         0.19             5.6      0.042   \n",
       "2            7.0              0.32         0.24             6.2      0.048   \n",
       "3           10.4              0.64         0.24             2.8      0.105   \n",
       "4            6.2              0.28         0.27            10.3      0.030   \n",
       "\n",
       "   free.sulfur.dioxide  total.sulfur.dioxide  density    pH  sulphates  \\\n",
       "0                 24.0                 111.0  0.99000  3.24       0.50   \n",
       "1                 22.0                 143.0  0.99425  3.15       0.63   \n",
       "2                 31.0                 228.0  0.99570  3.23       0.62   \n",
       "3                 29.0                  53.0  0.99980  3.24       0.67   \n",
       "4                 26.0                 108.0  0.99388  3.20       0.36   \n",
       "\n",
       "   alcohol  quality   wine  color  \n",
       "0     12.1        6  white  False  \n",
       "1      9.9        5  white  False  \n",
       "2      9.4        6  white  False  \n",
       "3      9.9        5    red   True  \n",
       "4     10.7        6  white  False  "
      ]
     },
     "execution_count": 2,
     "metadata": {},
     "output_type": "execute_result"
    }
   ],
   "source": [
    "wine = pd.read_csv(\"dataset//Wine quality.csv\")\n",
    "wine[\"color\"] = wine[\"wine\"] == \"red\"\n",
    "wine.head()"
   ]
  },
  {
   "cell_type": "code",
   "execution_count": 3,
   "id": "3d819e7a",
   "metadata": {
    "ExecuteTime": {
     "end_time": "2022-07-24T06:37:23.844456Z",
     "start_time": "2022-07-24T06:37:23.690314Z"
    }
   },
   "outputs": [
    {
     "data": {
      "image/png": "[encoded data removed]",
      "text/plain": [
       "<Figure size 432x288 with 1 Axes>"
      ]
     },
     "metadata": {
      "needs_background": "light"
     },
     "output_type": "display_data"
    }
   ],
   "source": [
    "# Standardization\n",
    "wine[\"free.sulfur.dioxide\"] = wine[\"free.sulfur.dioxide\"] / wine[\"free.sulfur.dioxide\"].mean()\n",
    "wine[\"volatile.acidity\"] = wine[\"volatile.acidity\"] / wine[\"volatile.acidity\"].mean()\n",
    "\n",
    "plt.scatter(x=\"free.sulfur.dioxide\", y=\"volatile.acidity\", data=wine, c=\"color\")\n",
    "plt.show()"
   ]
  },
  {
   "cell_type": "code",
   "execution_count": 4,
   "id": "54c29149",
   "metadata": {
    "ExecuteTime": {
     "end_time": "2022-07-24T06:56:31.082538Z",
     "start_time": "2022-07-24T06:37:23.846457Z"
    }
   },
   "outputs": [
    {
     "name": "stdout",
     "output_type": "stream",
     "text": [
      "0/100, w: [0, 0]\n",
      "1/100, w: [-4.32427908008687, 2.546619328351114]\n",
      "2/100, w: [-4.291519390086571, 2.546619328350455]\n",
      "3/100, w: [-2.9319922550597206, 1.3689918932738299]\n",
      "4/100, w: [-4.373418615088921, 2.5613396712875955]\n",
      "5/100, w: [-4.324279080088291, 2.546619328348494]\n",
      "6/100, w: [-4.291519390087992, 2.546619328347835]\n",
      "7/100, w: [-2.9319922550611417, 1.3689918932712097]\n",
      "8/100, w: [-4.373418615090342, 2.5613396712849754]\n",
      "9/100, w: [-4.324279080089712, 2.546619328345874]\n",
      "10/100, w: [-4.291519390089413, 2.5466193283452148]\n",
      "11/100, w: [-2.931992255062563, 1.3689918932685896]\n",
      "12/100, w: [-4.373418615091763, 2.5613396712823553]\n",
      "13/100, w: [-4.3242790800911335, 2.5466193283432537]\n",
      "14/100, w: [-4.291519390090834, 2.5466193283425946]\n",
      "15/100, w: [-2.931992255063984, 1.3689918932659695]\n",
      "16/100, w: [-4.373418615093184, 2.561339671279735]\n",
      "17/100, w: [-4.324279080092555, 2.5466193283406335]\n",
      "18/100, w: [-4.2915193900922555, 2.5466193283399745]\n",
      "19/100, w: [-2.931992255065405, 1.3689918932633494]\n",
      "20/100, w: [-4.3734186150946055, 2.561339671277115]\n",
      "21/100, w: [-4.324279080093976, 2.5466193283380134]\n",
      "22/100, w: [-4.2915193900936766, 2.5466193283373544]\n",
      "23/100, w: [-2.931992255066826, 1.3689918932607292]\n",
      "24/100, w: [-4.373418615096027, 2.561339671274495]\n",
      "25/100, w: [-4.324279080095397, 2.5466193283353933]\n",
      "26/100, w: [-4.291519390095098, 2.5466193283347343]\n",
      "27/100, w: [-2.931992255068247, 1.368991893258109]\n",
      "28/100, w: [-4.373418615097448, 2.561339671271875]\n",
      "29/100, w: [-4.324279080096818, 2.546619328332773]\n",
      "30/100, w: [-4.291519390096519, 2.546619328332114]\n",
      "31/100, w: [-2.931992255069668, 1.368991893255489]\n",
      "32/100, w: [-4.373418615098869, 2.5613396712692547]\n",
      "33/100, w: [-4.324279080098239, 2.546619328330153]\n",
      "34/100, w: [-4.29151939009794, 2.546619328329494]\n",
      "35/100, w: [-2.9319922550710893, 1.3689918932528689]\n",
      "36/100, w: [-4.37341861510029, 2.5613396712666345]\n",
      "37/100, w: [-4.32427908009966, 2.546619328327533]\n",
      "38/100, w: [-4.291519390099361, 2.546619328326874]\n",
      "39/100, w: [-2.9319922550725104, 1.3689918932502487]\n",
      "40/100, w: [-4.373418615101711, 2.5613396712640144]\n",
      "41/100, w: [-4.324279080101081, 2.546619328324913]\n",
      "42/100, w: [-4.291519390100782, 2.5466193283242538]\n",
      "43/100, w: [-2.9319922550739315, 1.3689918932476286]\n",
      "44/100, w: [-4.373418615103132, 2.5613396712613943]\n",
      "45/100, w: [-4.324279080102502, 2.5466193283222927]\n",
      "46/100, w: [-4.291519390102203, 2.5466193283216336]\n",
      "47/100, w: [-2.9319922550753525, 1.3689918932450085]\n",
      "48/100, w: [-4.373418615104553, 2.561339671258774]\n",
      "49/100, w: [-4.324279080103923, 2.5466193283196725]\n",
      "50/100, w: [-4.291519390103624, 2.5466193283190135]\n",
      "51/100, w: [-2.9319922550767736, 1.3689918932423883]\n",
      "52/100, w: [-4.373418615105974, 2.561339671256154]\n",
      "53/100, w: [-4.324279080105344, 2.5466193283170524]\n",
      "54/100, w: [-4.291519390105045, 2.5466193283163934]\n",
      "55/100, w: [-2.9319922550781947, 1.3689918932397682]\n",
      "56/100, w: [-4.373418615107395, 2.561339671253534]\n",
      "57/100, w: [-4.324279080106765, 2.5466193283144323]\n",
      "58/100, w: [-4.291519390106466, 2.5466193283137732]\n",
      "59/100, w: [-2.931992255079616, 1.368991893237148]\n",
      "60/100, w: [-4.373418615108816, 2.5613396712509138]\n",
      "61/100, w: [-4.3242790801081865, 2.546619328311812]\n",
      "62/100, w: [-4.291519390107887, 2.546619328311153]\n",
      "63/100, w: [-2.931992255081037, 1.368991893234528]\n",
      "64/100, w: [-4.373418615110237, 2.5613396712482936]\n",
      "65/100, w: [-4.324279080109608, 2.546619328309192]\n",
      "66/100, w: [-4.2915193901093085, 2.546619328308533]\n",
      "67/100, w: [-2.931992255082458, 1.3689918932319078]\n",
      "68/100, w: [-4.3734186151116585, 2.5613396712456735]\n",
      "69/100, w: [-4.324279080111029, 2.546619328306572]\n",
      "70/100, w: [-4.29151939011073, 2.546619328305913]\n",
      "71/100, w: [-2.931992255083879, 1.3689918932292877]\n",
      "72/100, w: [-4.37341861511308, 2.5613396712430534]\n",
      "73/100, w: [-4.32427908011245, 2.5466193283039518]\n",
      "74/100, w: [-4.291519390112151, 2.5466193283032927]\n",
      "75/100, w: [-2.9319922550853, 1.3689918932266676]\n",
      "76/100, w: [-4.373418615114501, 2.5613396712404333]\n",
      "77/100, w: [-4.324279080113871, 2.5466193283013316]\n",
      "78/100, w: [-4.291519390113572, 2.5466193283006726]\n",
      "79/100, w: [-2.9319922550867212, 1.3689918932240475]\n",
      "80/100, w: [-4.373418615115922, 2.561339671237813]\n",
      "81/100, w: [-4.324279080115292, 2.5466193282987115]\n",
      "82/100, w: [-4.291519390114993, 2.5466193282980525]\n",
      "83/100, w: [-2.9319922550881423, 1.3689918932214273]\n",
      "84/100, w: [-4.373418615117343, 2.561339671235193]\n",
      "85/100, w: [-4.324279080116713, 2.5466193282960914]\n",
      "86/100, w: [-4.291519390116414, 2.5466193282954324]\n",
      "87/100, w: [-2.9319922550895634, 1.3689918932188072]\n",
      "88/100, w: [-4.373418615118764, 2.561339671232573]\n",
      "89/100, w: [-4.324279080118134, 2.5466193282934713]\n",
      "90/100, w: [-4.291519390117835, 2.5466193282928122]\n",
      "91/100, w: [-2.9319922550909845, 1.368991893216187]\n",
      "92/100, w: [-4.373418615120185, 2.5613396712299528]\n",
      "93/100, w: [-4.324279080119555, 2.546619328290851]\n",
      "94/100, w: [-4.291519390119256, 2.546619328290192]\n",
      "95/100, w: [-2.9319922550924056, 1.368991893213567]\n",
      "96/100, w: [-4.373418615121606, 2.5613396712273326]\n",
      "97/100, w: [-4.324279080120976, 2.546619328288231]\n",
      "98/100, w: [-4.291519390120677, 2.546619328287572]\n",
      "99/100, w: [-2.9319922550938267, 1.3689918932109468]\n"
     ]
    }
   ],
   "source": [
    "w = [0, 0]\n",
    "for t in range(10000):\n",
    "    if t % 100 == 0:\n",
    "        print(f\"{int(t/100)}/100, w: {w}\")\n",
    "    for row in range(wine.shape[0]):\n",
    "        if (w[0]*wine[\"free.sulfur.dioxide\"][row] + \n",
    "            w[1]*wine[\"volatile.acidity\"][row] > 0 and wine[\"color\"][row]) or\\\n",
    "            (w[0]*wine[\"free.sulfur.dioxide\"][row] + \n",
    "             w[1]*wine[\"volatile.acidity\"][row] <= 0 and ~wine[\"color\"][row]):\n",
    "            continue\n",
    "        elif wine[\"color\"][row]:\n",
    "            w = [w[0] + wine[\"free.sulfur.dioxide\"][row], \n",
    "                 w[1] + wine[\"volatile.acidity\"][row]]\n",
    "        else:\n",
    "            w = [w[0] - wine[\"free.sulfur.dioxide\"][row], \n",
    "                 w[1] - wine[\"volatile.acidity\"][row]]"
   ]
  },
  {
   "cell_type": "code",
   "execution_count": 5,
   "id": "aad4a769",
   "metadata": {
    "ExecuteTime": {
     "end_time": "2022-07-24T06:56:31.192191Z",
     "start_time": "2022-07-24T06:56:31.083247Z"
    }
   },
   "outputs": [
    {
     "name": "stdout",
     "output_type": "stream",
     "text": [
      "0.8653224565183931\n"
     ]
    }
   ],
   "source": [
    "count = 0\n",
    "for row in range(wine.shape[0]):\n",
    "    if (w[0]*wine[\"free.sulfur.dioxide\"][row] + \n",
    "        w[1]*wine[\"volatile.acidity\"][row] > 0 and wine[\"color\"][row]) or\\\n",
    "        (w[0]*wine[\"free.sulfur.dioxide\"][row] + \n",
    "         w[1]*wine[\"volatile.acidity\"][row] <= 0 and ~wine[\"color\"][row]):\n",
    "        count += 1\n",
    "    else:\n",
    "        continue\n",
    "print(count / wine.shape[0])"
   ]
  },
  {
   "cell_type": "code",
   "execution_count": 6,
   "id": "0452ab43",
   "metadata": {
    "ExecuteTime": {
     "end_time": "2022-07-24T06:56:31.333339Z",
     "start_time": "2022-07-24T06:56:31.194192Z"
    }
   },
   "outputs": [
    {
     "data": {
      "image/png": "[encoded data removed]",
      "text/plain": [
       "<Figure size 432x288 with 1 Axes>"
      ]
     },
     "metadata": {
      "needs_background": "light"
     },
     "output_type": "display_data"
    }
   ],
   "source": [
    "plt.scatter(x=\"free.sulfur.dioxide\", y=\"volatile.acidity\", data=wine, c=\"color\")\n",
    "plt.plot([0, w[0]], [0, w[1]])  # (0, 0) 到 (w[0], w[1]) 的直线。\n",
    "plt.plot([0, w[1]], [0, -w[0]])  # (0, 0) 到 (w[1], -w[0]) 的直线。\n",
    "plt.show()"
   ]
  },
  {
   "cell_type": "markdown",
   "id": "e885f86f",
   "metadata": {},
   "source": [
    " **解释：为什么是 $(0, 0)$ 到 $(w[1], -w[0])$ (即：$(0, 0)$ 到 $(1, -\\frac{w\\mbox{[0]}}{w\\mbox{[1]}})$）的直线，而不是 $(0, 0)$ 到 $(1, \\frac{w\\mbox{[1]}}{w\\mbox{[0]}})$ 的直线（即直接是斜率）？**\n",
    " \n",
    " \n",
    "首先我们注意到，对于两个斜率 $-\\frac{w\\mbox{[0]}}{w\\mbox{[1]}}$ 和 $\\frac{w\\mbox{[1]}}{w\\mbox{[0]}}$ 互为负倒数，可知它们的直线相互垂直。又因为两个向量点积等于 $0$，意味着这两个向量正交（垂直）。\n",
    "\n",
    "我们最终求出来的权重向量是 $\\vec{w} = (w\\mbox{[0]}, w\\mbox{[1]}) = (1, \\frac{w\\mbox{[1]}}{w\\mbox{[0]}})$，在算法中我们通过点积 $\\vec{w}\\cdot\\vec{x}$ 的符号与 label $y$ 的关系作为更新决策的条件“，即 $\\vec{w}\\cdot\\vec{x}$ 与 $0$ 的大小关系。再换句话说，在理想情况（即两类数据被完美线性分割）下，假设最终求出的权重的估计值为 $\\vec{w}^{*}$，那么对于数据中的一类有： $\\vec{w}^{*} \\cdot \\vec{x}^{(1)} >  0$，另一类有：$\\vec{w}^{*} \\cdot \\vec{x}^{(2)} < 0$。\n",
    "\n",
    "那么，假设斜率为 $k$ 的直线（向量形式记作 $\\vec{k}$）对两类数据 $(x^{(1)}, y^{(1)})$ 和 $(x^{(2)}, y^{(2)})$ 进行分割，那么它一定与 $\\vec{w}^{*}$ 正交（垂直），因为它们的点积为 $0$，而点积为 $0$ 的原因是，两类数据（$y = -1$ 和 $y = 1$）被分类： $-1 < \\vec{w}^{*} \\cdot \\vec{k} < 1$。得到结论：\n",
    "\n",
    "$\\vec{w}^{*}$ 始终与将两类数据分割的超平面正交（垂直）。\n"
   ]
  },
  {
   "cell_type": "code",
   "execution_count": null,
   "id": "5580ade9",
   "metadata": {},
   "outputs": [],
   "source": []
  }
 ],
 "metadata": {
  "kernelspec": {
   "display_name": "Python 3 (ipykernel)",
   "language": "python",
   "name": "python3"
  },
  "language_info": {
   "codemirror_mode": {
    "name": "ipython",
    "version": 3
   },
   "file_extension": ".py",
   "mimetype": "text/x-python",
   "name": "python",
   "nbconvert_exporter": "python",
   "pygments_lexer": "ipython3",
   "version": "3.9.12"
  },
  "toc": {
   "base_numbering": 1,
   "nav_menu": {},
   "number_sections": false,
   "sideBar": true,
   "skip_h1_title": true,
   "title_cell": "Table of Contents",
   "title_sidebar": "Contents",
   "toc_cell": false,
   "toc_position": {},
   "toc_section_display": true,
   "toc_window_display": false
  }
 },
 "nbformat": 4,
 "nbformat_minor": 5
}
