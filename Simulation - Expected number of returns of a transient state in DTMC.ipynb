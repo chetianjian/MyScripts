{
 "cells": [
  {
   "cell_type": "markdown",
   "id": "b421bbde",
   "metadata": {},
   "source": [
    "# <center> Author: Tianjian Che\n",
    "\n",
    "\n",
    "Starting from state $i$, denote $f^{(n)}_{ij}$ as the probability that the discrete time Markov chain (DTMC) arrives at state $j$ for the first time exactly after $n$ steps, that is:\n",
    "\n",
    "$$\n",
    "f^{(n)}_{ij} = P\\big( X_{1} \\neq j, X_{2} \\neq j, \\ldots, X_{n-1} \\neq j, X_{n} =j ~ | ~ X_{0} =i \\big)\n",
    "$$\n",
    "\n",
    "Naturally, we have:\n",
    "\n",
    "$$\n",
    "f_{ij} = \\sum\\limits^{\\infty}_{n=1} f_{ij}^{(n)}\n",
    "$$\n",
    "\n",
    "be the probability that started from state $i$ and the DTMC finally arrives at state $j$ after some steps, and we have $f_{ij} \\leq 1$ by the law of total probability."
   ]
  },
  {
   "cell_type": "markdown",
   "id": "af0f276b",
   "metadata": {},
   "source": [
    "Here it comes the definitions of **recurrent state** and **transient state**:\n",
    "\n",
    "A state $i$ is called **recurrent** if: \n",
    "\n",
    "$$\n",
    "P\\big( X_{n} = i \\mbox{ for some } n \\geq 1 ~ | ~ X_{0} = i \\big) = 1\n",
    "$$\n",
    "\n",
    "and state $i$ is called **transient** if:\n",
    "\n",
    "$$\n",
    "P\\big( X_{n} = i \\mbox{ for some } n \\geq 1 ~ | ~ X_{0} = i \\big) < 1\n",
    "$$"
   ]
  },
  {
   "cell_type": "markdown",
   "id": "4da5171c",
   "metadata": {},
   "source": [
    "The above two mathematical definitions cannot be further intuitive and obvious. A **recurrent state** $i$ means that, the DTMC which started from state $i$ can always return to itself ($i$) for probability $1$, it further indicates that the DTMC will visit state $i$ for infinitely many times. By definition above we know that in this case: $f_{ii} = 1$.\n",
    "\n",
    "Similarly, a **transient state** $i$ means that, started from state $i$, there exists a strictly positive probability (which is therefore $1 - f_{ii} > 0$) that the DTMC will never come back again. Hence, the DTMC will \"hit on\" this probability as long as it's strictly positive given a sufficiently long but finite time. In other words, sooner or later, the DTMC will leave from state $i$ and never come back again. In this case, the expected number of returns to state $i$ is also a finite and can be derived as following:\n",
    "\n",
    "$$\n",
    "\\begin{align*}\n",
    "S & = 1 \\cdot f_{ii} \\cdot (1-f_{ii})  + 2 \\cdot (f_{ii})^{2} \\cdot (1-f_{ii}) + 3 \\cdot (f_{ii})^{3} \\cdot (1-f_{ii}) + \\cdots\\\\\n",
    "f_{ii} S & = (f_{ii})^{2} \\cdot (1-f_{ii}) + 2 \\cdot (f_{ii})^{3} \\cdot (1-f_{ii}) + 3 \\cdot (f_{ii})^{4} \\cdot (1-f_{ii}) + \\cdots\\\\\n",
    "(1-f_{ii}) S & = f_{ii} \\cdot (1-f_{ii}) + (f_{ii}) ^{2} \\cdot (1-f_{ii}) + (f_{ii})^{3} \\cdot (1-f_{ii}) + \\cdots\\\\\n",
    "S & = \\lim\\limits_{n \\rightarrow \\infty}\\frac{f_{ii}\\big( 1 - (f_{ii})^{n} \\big)}{1 - f_{ii}} = \\frac{f_{ii}}{1 - f_{ii}}\n",
    "\\end{align*}\n",
    "$$"
   ]
  },
  {
   "cell_type": "code",
   "execution_count": 1,
   "id": "8c6eb4c9",
   "metadata": {
    "ExecuteTime": {
     "end_time": "2022-09-11T09:41:10.402114Z",
     "start_time": "2022-09-11T09:41:09.786101Z"
    }
   },
   "outputs": [],
   "source": [
    "import numpy as np\n",
    "import matplotlib.pyplot as plt"
   ]
  },
  {
   "cell_type": "code",
   "execution_count": 2,
   "id": "a2c8f6ee",
   "metadata": {
    "ExecuteTime": {
     "end_time": "2022-09-11T09:41:14.070028Z",
     "start_time": "2022-09-11T09:41:10.404048Z"
    },
    "scrolled": false
   },
   "outputs": [],
   "source": [
    "np.random.seed(66)\n",
    "actual = []\n",
    "for p in np.linspace(0.1, 0.9, 81):  # denote as f_ii\n",
    "    count = 0\n",
    "    for n in range(10000):\n",
    "        while np.random.uniform(0, 1) <= p:\n",
    "            count += 1\n",
    "    count = count / 10000\n",
    "    actual.append(count)\n",
    "\n",
    "theoretical = list(map(lambda p: p/(1-p), np.linspace(0.1, 0.9, 81)))"
   ]
  },
  {
   "cell_type": "code",
   "execution_count": 3,
   "id": "234b7cf9",
   "metadata": {
    "ExecuteTime": {
     "end_time": "2022-09-11T09:41:14.179374Z",
     "start_time": "2022-09-11T09:41:14.071030Z"
    }
   },
   "outputs": [
    {
     "data": {
      "image/png": "[encoded data removed]",
      "text/plain": [
       "<Figure size 864x576 with 1 Axes>"
      ]
     },
     "metadata": {
      "needs_background": "light"
     },
     "output_type": "display_data"
    }
   ],
   "source": [
    "plt.figure(figsize=(12, 8))\n",
    "plt.plot(np.linspace(0.1, 0.9, 81), theoretical, color=\"red\", marker=\"o\", label=\"theoretical\", markersize=4)\n",
    "plt.plot(np.linspace(0.1, 0.9, 81), actual, \"b\", label=\"actual\")\n",
    "plt.legend()\n",
    "plt.show()"
   ]
  },
  {
   "cell_type": "code",
   "execution_count": null,
   "id": "8f7b8f71",
   "metadata": {},
   "outputs": [],
   "source": []
  }
 ],
 "metadata": {
  "kernelspec": {
   "display_name": "Python 3 (ipykernel)",
   "language": "python",
   "name": "python3"
  },
  "language_info": {
   "codemirror_mode": {
    "name": "ipython",
    "version": 3
   },
   "file_extension": ".py",
   "mimetype": "text/x-python",
   "name": "python",
   "nbconvert_exporter": "python",
   "pygments_lexer": "ipython3",
   "version": "3.9.12"
  },
  "toc": {
   "base_numbering": 1,
   "nav_menu": {},
   "number_sections": false,
   "sideBar": true,
   "skip_h1_title": true,
   "title_cell": "Table of Contents",
   "title_sidebar": "Contents",
   "toc_cell": false,
   "toc_position": {},
   "toc_section_display": true,
   "toc_window_display": false
  },
  "varInspector": {
   "cols": {
    "lenName": 16,
    "lenType": 16,
    "lenVar": 40
   },
   "kernels_config": {
    "python": {
     "delete_cmd_postfix": "",
     "delete_cmd_prefix": "del ",
     "library": "var_list.py",
     "varRefreshCmd": "print(var_dic_list())"
    },
    "r": {
     "delete_cmd_postfix": ") ",
     "delete_cmd_prefix": "rm(",
     "library": "var_list.r",
     "varRefreshCmd": "cat(var_dic_list()) "
    }
   },
   "types_to_exclude": [
    "module",
    "function",
    "builtin_function_or_method",
    "instance",
    "_Feature"
   ],
   "window_display": false
  }
 },
 "nbformat": 4,
 "nbformat_minor": 5
}
