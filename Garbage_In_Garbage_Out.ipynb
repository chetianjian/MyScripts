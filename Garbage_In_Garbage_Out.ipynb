{
 "cells": [
  {
   "cell_type": "code",
   "execution_count": 1,
   "id": "f5518ef7",
   "metadata": {
    "ExecuteTime": {
     "end_time": "2022-09-25T18:41:27.450290Z",
     "start_time": "2022-09-25T18:41:24.958834Z"
    }
   },
   "outputs": [],
   "source": [
    "import numpy as np\n",
    "import torch\n",
    "import torch.nn as nn\n",
    "import torch.nn.functional as F\n",
    "import torch.optim as optim\n",
    "from torch.utils.data import DataLoader\n",
    "from sklearn.model_selection import train_test_split"
   ]
  },
  {
   "cell_type": "code",
   "execution_count": 2,
   "id": "631455fe",
   "metadata": {
    "ExecuteTime": {
     "end_time": "2022-09-25T18:41:27.466535Z",
     "start_time": "2022-09-25T18:41:27.452287Z"
    }
   },
   "outputs": [
    {
     "data": {
      "text/plain": [
       "device(type='cuda')"
      ]
     },
     "execution_count": 2,
     "metadata": {},
     "output_type": "execute_result"
    }
   ],
   "source": [
    "device = torch.device(\"cuda\" if torch.cuda.is_available else \"cpu\")\n",
    "device"
   ]
  },
  {
   "cell_type": "code",
   "execution_count": 3,
   "id": "50eb0c60",
   "metadata": {
    "ExecuteTime": {
     "end_time": "2022-09-25T18:41:27.482832Z",
     "start_time": "2022-09-25T18:41:27.468291Z"
    }
   },
   "outputs": [],
   "source": [
    "def odd_even(x):\n",
    "    return (x, 1.0) if x % 2 == 0 else (x, 0.0)"
   ]
  },
  {
   "cell_type": "code",
   "execution_count": 4,
   "id": "c0471ea4",
   "metadata": {
    "ExecuteTime": {
     "end_time": "2022-09-25T18:41:27.497927Z",
     "start_time": "2022-09-25T18:41:27.485775Z"
    }
   },
   "outputs": [],
   "source": [
    "data = np.array(list(map(odd_even, range(0, 10000))))"
   ]
  },
  {
   "cell_type": "code",
   "execution_count": 5,
   "id": "a54a2041",
   "metadata": {
    "ExecuteTime": {
     "end_time": "2022-09-25T18:41:27.513119Z",
     "start_time": "2022-09-25T18:41:27.498927Z"
    }
   },
   "outputs": [],
   "source": [
    "training_data, testing_data = train_test_split(data, test_size=0.2)"
   ]
  },
  {
   "cell_type": "code",
   "execution_count": 6,
   "id": "8c0deb30",
   "metadata": {
    "ExecuteTime": {
     "end_time": "2022-09-25T18:41:27.529021Z",
     "start_time": "2022-09-25T18:41:27.515021Z"
    }
   },
   "outputs": [],
   "source": [
    "train_loader = DataLoader(training_data, batch_size=64, shuffle=True)\n",
    "test_loader = DataLoader(testing_data, batch_size=64, shuffle=True)"
   ]
  },
  {
   "cell_type": "code",
   "execution_count": 7,
   "id": "7a9655b7",
   "metadata": {
    "ExecuteTime": {
     "end_time": "2022-09-25T18:41:27.545158Z",
     "start_time": "2022-09-25T18:41:27.531018Z"
    }
   },
   "outputs": [],
   "source": [
    "class Net(nn.Module):\n",
    "    def __init__(self):\n",
    "        super().__init__()\n",
    "        self.layers = self.get_fc_layers()\n",
    "    \n",
    "    def get_fc_layers(self):\n",
    "        layers = nn.Sequential(\n",
    "            nn.Linear(1, 8), \n",
    "            nn.Dropout(0.1), \n",
    "            nn.Linear(8, 64),\n",
    "            nn.ReLU(),\n",
    "            nn.Linear(64, 512), \n",
    "            nn.Linear(512, 128), \n",
    "            nn.Linear(128, 16), \n",
    "            nn.ReLU(),\n",
    "            nn.Linear(16, 1),\n",
    "            nn.Sigmoid())\n",
    "        return layers\n",
    "    \n",
    "    def forward(self, x):\n",
    "        x = self.layers(x)\n",
    "        return x"
   ]
  },
  {
   "cell_type": "code",
   "execution_count": 8,
   "id": "a23bc467",
   "metadata": {
    "ExecuteTime": {
     "end_time": "2022-09-25T18:41:27.622065Z",
     "start_time": "2022-09-25T18:41:27.546963Z"
    }
   },
   "outputs": [
    {
     "data": {
      "text/plain": [
       "Net(\n",
       "  (layers): Sequential(\n",
       "    (0): Linear(in_features=1, out_features=8, bias=True)\n",
       "    (1): Dropout(p=0.1, inplace=False)\n",
       "    (2): Linear(in_features=8, out_features=64, bias=True)\n",
       "    (3): ReLU()\n",
       "    (4): Linear(in_features=64, out_features=512, bias=True)\n",
       "    (5): Linear(in_features=512, out_features=128, bias=True)\n",
       "    (6): Linear(in_features=128, out_features=16, bias=True)\n",
       "    (7): ReLU()\n",
       "    (8): Linear(in_features=16, out_features=1, bias=True)\n",
       "    (9): Sigmoid()\n",
       "  )\n",
       ")"
      ]
     },
     "execution_count": 8,
     "metadata": {},
     "output_type": "execute_result"
    }
   ],
   "source": [
    "net = Net()\n",
    "net.to(device)"
   ]
  },
  {
   "cell_type": "code",
   "execution_count": 13,
   "id": "5b848bef",
   "metadata": {
    "ExecuteTime": {
     "end_time": "2022-09-25T18:44:39.708986Z",
     "start_time": "2022-09-25T18:44:34.742943Z"
    }
   },
   "outputs": [
    {
     "name": "stdout",
     "output_type": "stream",
     "text": [
      "Epoch no. 1 |accuracy:  49.9 % |total_loss:  62.61319017410278\n",
      "Epoch no. 2 |accuracy:  49.9 % |total_loss:  62.61124449968338\n",
      "Epoch no. 3 |accuracy:  49.9 % |total_loss:  62.612939804792404\n",
      "Epoch no. 4 |accuracy:  49.9 % |total_loss:  62.61216792464256\n",
      "Epoch no. 5 |accuracy:  49.9 % |total_loss:  62.61262181401253\n",
      "Epoch no. 6 |accuracy:  49.9 % |total_loss:  62.61132237315178\n",
      "Epoch no. 7 |accuracy:  49.9 % |total_loss:  62.612674593925476\n",
      "Epoch no. 8 |accuracy:  49.9 % |total_loss:  62.6118146777153\n",
      "Epoch no. 9 |accuracy:  49.9 % |total_loss:  62.61149114370346\n",
      "Epoch no. 10 |accuracy:  49.9 % |total_loss:  62.6122100353241\n",
      "Epoch no. 11 |accuracy:  49.9 % |total_loss:  62.61246970295906\n",
      "Epoch no. 12 |accuracy:  49.9 % |total_loss:  62.61217746138573\n",
      "Epoch no. 13 |accuracy:  49.9 % |total_loss:  62.60938674211502\n",
      "Epoch no. 14 |accuracy:  49.9 % |total_loss:  62.611732602119446\n",
      "Epoch no. 15 |accuracy:  49.9 % |total_loss:  62.611789256334305\n"
     ]
    }
   ],
   "source": [
    "# Defining our Loss Function\n",
    "criterion = nn.MSELoss()\n",
    "\n",
    "# Defining optimizer\n",
    "optimizer = optim.SGD(net.parameters(), lr=0.003, momentum=0.9)\n",
    "\n",
    "# Number of epochs\n",
    "epochs = 15\n",
    "for epoch in range(epochs):\n",
    "\n",
    "    # Initialising statistics that we will be tracking across epochs\n",
    "    total_correct = 0\n",
    "    total = 0\n",
    "    total_loss = 0\n",
    "\n",
    "    for i, data in enumerate(train_loader, 0):\n",
    "        # get the inputs; data is a list of [inputs, labels]\n",
    "        feature, label = data[:, 0], data[:, 1]\n",
    "        # loading onto cuda if available*\n",
    "        if torch.cuda.is_available():\n",
    "            feature, label = feature.to(torch.float), label.to(torch.float)\n",
    "            feature = feature.to(device)\n",
    "            label = label.to(device)\n",
    "\n",
    "        \n",
    "        # zero the parameter gradients: Clean the gradient caclulated in the previous iteration\n",
    "        optimizer.zero_grad() # Set all graidents to zero for each step as they accumulate over backprop\n",
    "\n",
    "        # forward + backward + optimize\n",
    "        feature = feature.view(feature.shape[0], -1)\n",
    "        output = net.forward(feature)\n",
    "        loss = criterion(output.reshape(-1), label)\n",
    "\n",
    "        # Calculate gradient of matrix with requires_grad = True\n",
    "        loss.backward() #computes dloss/dx for every parameter x which has requires_grad=True\n",
    "\n",
    "        # Apply the gradient calculate from last step to the matrix\n",
    "        optimizer.step() # x += -lr * x.grad ie updates the weights of the parameters\n",
    "\n",
    "        # Adding loss to total loss\n",
    "        total_loss += loss.item()\n",
    "\n",
    "        # Checking which output label has max probability\n",
    "        _, predicted = torch.max(output, 1)\n",
    "        total += label.shape[0]\n",
    "\n",
    "        # Tracking number of correct predictions\n",
    "        total_correct += (predicted == label).sum().item()\n",
    "\n",
    "    # Calculating accuracy, epoch-time+-\n",
    "    accuracy = 100* total_correct/total\n",
    "\n",
    "    # Printing out statistics\n",
    "    print(\"Epoch no.\",epoch+1 ,\"|accuracy: \", round(accuracy, 3),\"%\", \"|total_loss: \", total_loss)"
   ]
  },
  {
   "cell_type": "code",
   "execution_count": null,
   "id": "73892e19",
   "metadata": {},
   "outputs": [],
   "source": []
  }
 ],
 "metadata": {
  "kernelspec": {
   "display_name": "Python 3 (ipykernel)",
   "language": "python",
   "name": "python3"
  },
  "language_info": {
   "codemirror_mode": {
    "name": "ipython",
    "version": 3
   },
   "file_extension": ".py",
   "mimetype": "text/x-python",
   "name": "python",
   "nbconvert_exporter": "python",
   "pygments_lexer": "ipython3",
   "version": "3.9.13"
  },
  "toc": {
   "base_numbering": 1,
   "nav_menu": {},
   "number_sections": false,
   "sideBar": true,
   "skip_h1_title": true,
   "title_cell": "Table of Contents",
   "title_sidebar": "Contents",
   "toc_cell": false,
   "toc_position": {},
   "toc_section_display": true,
   "toc_window_display": false
  },
  "varInspector": {
   "cols": {
    "lenName": 16,
    "lenType": 16,
    "lenVar": 40
   },
   "kernels_config": {
    "python": {
     "delete_cmd_postfix": "",
     "delete_cmd_prefix": "del ",
     "library": "var_list.py",
     "varRefreshCmd": "print(var_dic_list())"
    },
    "r": {
     "delete_cmd_postfix": ") ",
     "delete_cmd_prefix": "rm(",
     "library": "var_list.r",
     "varRefreshCmd": "cat(var_dic_list()) "
    }
   },
   "types_to_exclude": [
    "module",
    "function",
    "builtin_function_or_method",
    "instance",
    "_Feature"
   ],
   "window_display": false
  }
 },
 "nbformat": 4,
 "nbformat_minor": 5
}
