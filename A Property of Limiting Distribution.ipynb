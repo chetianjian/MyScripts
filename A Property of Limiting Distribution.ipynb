{
 "cells": [
  {
   "cell_type": "markdown",
   "id": "364a9f9b",
   "metadata": {},
   "source": [
    "For a discrete stochastic process with a finite state set, what is the probability for the occurence of a randomly chosen sequence with states permutation of length $N$? Let's say, for the easy model with two states and a given transition probability matrix, that is:\n",
    "\n",
    "$$\n",
    "\\mathbb{S} = \\left\\{ 1, 2 \\right\\}, ~ P = \\begin{pmatrix}\n",
    "                             0.3 & 0.7\\\\\n",
    "                             0.4 & 0.6\n",
    "                            \\end{pmatrix}\n",
    "$$\n",
    "\n",
    "Here, $\\mathbb{S}$ is the state space. In transition matrix $P$, $P_{ij}$ stands for the probability of a single step transition from $i$ to $j$."
   ]
  },
  {
   "cell_type": "markdown",
   "id": "20e4d710",
   "metadata": {},
   "source": [
    "**Proposition**\n",
    "\n",
    "A transition matrix $P$ is **regular**, if there exists $k \\in \\mathbb{N}^{+}$, such that every element in $P^{(k)}$ is strictly positive.\n",
    "\n",
    "**Theorem**\n",
    "\n",
    "A discrete Markov Chain has a limiting distribution if it has a regular transition matrix.\n",
    "\n",
    "(Here I am not going to prove the Theorem above.)"
   ]
  },
  {
   "cell_type": "markdown",
   "id": "2d6173d9",
   "metadata": {},
   "source": [
    "For the question stated in the first sentence, it is very obvious that the answer highly depends on whether we chose the sequence at the beginning, or whether we should regard the first element of the sequence as the given initial condition? Just imagine an extreme condition, like $\\left\\{ 1 \\right\\}$ is an absorbing state set, and we just appointed state $\\left\\{ 1 \\right\\}$ as initial condition. If yes, then for concluding the final reason, we must clarify the probability distribution of the initial selection.\n",
    "\n",
    "However, what if this information is not provided? After a moment thought, I think the answer relates the following points:\n",
    "\n",
    "1. As the source of my intuition, since the geometric series with parameter less than 1 finally converge, will the difference brought by initial conditions be diluted by the time too? In other words, will the probability finally converge to a fixed amount?\n",
    "\n",
    "2. If the convergence cannot be reached, or the initial difference cannot be diluted, then we have to assign a artificial prior distribution, as stated before. \n",
    "\n",
    "Clearly, point $1$ really needs the assumption that $P$ is regular, otherwise it produces conflict with our extreme example mentioned above.\n",
    "\n",
    "From my mathematical intuition, I can almost assert that, two conditions: \"transition matrix $P$ is regular\" and \"the initial condition has no impact on the eventual behavior (which means convergence)\" are equivalent, but I am not going to prove it. Not even a challenge for me."
   ]
  },
  {
   "cell_type": "code",
   "execution_count": 1,
   "id": "a6ad5a8c",
   "metadata": {
    "ExecuteTime": {
     "end_time": "2022-09-19T15:09:55.592832Z",
     "start_time": "2022-09-19T15:09:55.469832Z"
    }
   },
   "outputs": [],
   "source": [
    "import numpy as np"
   ]
  },
  {
   "cell_type": "code",
   "execution_count": 2,
   "id": "184184e9",
   "metadata": {
    "ExecuteTime": {
     "end_time": "2022-09-19T15:09:56.309998Z",
     "start_time": "2022-09-19T15:09:55.594834Z"
    }
   },
   "outputs": [
    {
     "name": "stdout",
     "output_type": "stream",
     "text": [
      "[[0.46153846 0.53846154]]\n",
      "[[0.46153846 0.53846154]]\n",
      "[[0.46153846 0.53846154]]\n",
      "[[0.46153846 0.53846154]]\n",
      "[[0.46153846 0.53846154]]\n",
      "\n",
      " Next_________________________________________________________________________________________Next \n",
      "\n",
      "[[0.46153846 0.53846154]]\n",
      "[[0.46153846 0.53846154]]\n",
      "[[0.46153846 0.53846154]]\n",
      "[[0.46153846 0.53846154]]\n",
      "[[0.46153846 0.53846154]]\n",
      "\n",
      " Next_________________________________________________________________________________________Next \n",
      "\n",
      "[[0.46153846 0.53846154]]\n",
      "[[0.46153846 0.53846154]]\n",
      "[[0.46153846 0.53846154]]\n",
      "[[0.46153846 0.53846154]]\n",
      "[[0.46153846 0.53846154]]\n",
      "\n",
      " Next_________________________________________________________________________________________Next \n",
      "\n",
      "[[0.46153846 0.53846154]]\n",
      "[[0.46153846 0.53846154]]\n",
      "[[0.46153846 0.53846154]]\n",
      "[[0.46153846 0.53846154]]\n",
      "[[0.46153846 0.53846154]]\n",
      "\n",
      " Next_________________________________________________________________________________________Next \n",
      "\n",
      "[[0.46153846 0.53846154]]\n",
      "[[0.46153846 0.53846154]]\n",
      "[[0.46153846 0.53846154]]\n",
      "[[0.46153846 0.53846154]]\n",
      "[[0.46153846 0.53846154]]\n",
      "\n",
      " Next_________________________________________________________________________________________Next \n",
      "\n",
      "[[0.46153846 0.53846154]]\n",
      "[[0.46153846 0.53846154]]\n",
      "[[0.46153846 0.53846154]]\n",
      "[[0.46153846 0.53846154]]\n",
      "[[0.46153846 0.53846154]]\n",
      "\n",
      " Next_________________________________________________________________________________________Next \n",
      "\n",
      "[[0.46153846 0.53846154]]\n",
      "[[0.46153846 0.53846154]]\n",
      "[[0.46153846 0.53846154]]\n",
      "[[0.46153846 0.53846154]]\n",
      "[[0.46153846 0.53846154]]\n",
      "\n",
      " Next_________________________________________________________________________________________Next \n",
      "\n"
     ]
    }
   ],
   "source": [
    "transition = np.array([[0.3, 0.7], [0.6, 0.4]])\n",
    "initial_conditions = [np.array([[0, 1]]), np.array([[0.2, 0.8]]), np.array([[0.4, 0.6]]), np.array([[0.5, 0.5]]), \n",
    "                      np.array([[0.6, 0.4]]), np.array([[0.8, 0.2]]), np.array([[0, 1]])]\n",
    "\n",
    "for condition in initial_conditions:\n",
    "    m = 0\n",
    "    while m < 100000:\n",
    "        condition = np.dot(condition, transition)\n",
    "        if m >= 99995:\n",
    "            print(condition)\n",
    "        m += 1\n",
    "    print(\"\\n Next_________________________________________________________________________________________Next \\n\")"
   ]
  },
  {
   "cell_type": "code",
   "execution_count": null,
   "id": "1fa0e46e",
   "metadata": {},
   "outputs": [],
   "source": []
  }
 ],
 "metadata": {
  "kernelspec": {
   "display_name": "Python 3 (ipykernel)",
   "language": "python",
   "name": "python3"
  },
  "language_info": {
   "codemirror_mode": {
    "name": "ipython",
    "version": 3
   },
   "file_extension": ".py",
   "mimetype": "text/x-python",
   "name": "python",
   "nbconvert_exporter": "python",
   "pygments_lexer": "ipython3",
   "version": "3.9.13"
  },
  "toc": {
   "base_numbering": 1,
   "nav_menu": {},
   "number_sections": false,
   "sideBar": true,
   "skip_h1_title": true,
   "title_cell": "Table of Contents",
   "title_sidebar": "Contents",
   "toc_cell": false,
   "toc_position": {},
   "toc_section_display": true,
   "toc_window_display": false
  },
  "varInspector": {
   "cols": {
    "lenName": 16,
    "lenType": 16,
    "lenVar": 40
   },
   "kernels_config": {
    "python": {
     "delete_cmd_postfix": "",
     "delete_cmd_prefix": "del ",
     "library": "var_list.py",
     "varRefreshCmd": "print(var_dic_list())"
    },
    "r": {
     "delete_cmd_postfix": ") ",
     "delete_cmd_prefix": "rm(",
     "library": "var_list.r",
     "varRefreshCmd": "cat(var_dic_list()) "
    }
   },
   "types_to_exclude": [
    "module",
    "function",
    "builtin_function_or_method",
    "instance",
    "_Feature"
   ],
   "window_display": false
  }
 },
 "nbformat": 4,
 "nbformat_minor": 5
}
