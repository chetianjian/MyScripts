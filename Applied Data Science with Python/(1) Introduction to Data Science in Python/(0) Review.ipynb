{
 "cells": [
  {
   "cell_type": "code",
   "execution_count": 1,
   "id": "f86da199",
   "metadata": {},
   "outputs": [
    {
     "name": "stdout",
     "output_type": "stream",
     "text": [
      "3\n",
      "6\n"
     ]
    }
   ],
   "source": [
    "# Default values for parameters and passing optional parameters as labeled values\n",
    "\n",
    "def add_numbers(x, y, z = None):\n",
    "    if z == None:\n",
    "        return x + y\n",
    "    else:\n",
    "        return x + y + z\n",
    "\n",
    "print(add_numbers(1,2))\n",
    "print(add_numbers(1,2,3))"
   ]
  },
  {
   "cell_type": "code",
   "execution_count": 2,
   "id": "47b808e7",
   "metadata": {},
   "outputs": [
    {
     "name": "stdout",
     "output_type": "stream",
     "text": [
      "Christopher\n",
      "Brooks\n",
      "brooksch@umich.edu\n"
     ]
    }
   ],
   "source": [
    "x = ('Christopher', 'Brooks','brooksch@umich.edu')\n",
    "fname, lname, email = x\n",
    "print(fname)\n",
    "print(lname)\n",
    "print(email)"
   ]
  },
  {
   "cell_type": "code",
   "execution_count": 3,
   "id": "e68cbd68",
   "metadata": {},
   "outputs": [
    {
     "name": "stdout",
     "output_type": "stream",
     "text": [
      "Chris bought 4 item(s) at a price of 3.24 each for a total of 12.96\n"
     ]
    }
   ],
   "source": [
    "# String library and formatting language\n",
    "\n",
    "sales_record = {'price': 3.24, 'num_items': 4, 'person': 'Chris'}\n",
    "sales_statement = '{} bought {} item(s) at a price of {} each for a total of {}'\n",
    "print(sales_statement.format(sales_record['person'], \n",
    "                             sales_record['num_items'], \n",
    "                             sales_record['price'], \n",
    "                             sales_record['price']*sales_record['num_items']))"
   ]
  },
  {
   "cell_type": "code",
   "execution_count": 4,
   "id": "74a00413",
   "metadata": {
    "scrolled": true
   },
   "outputs": [
    {
     "name": "stdout",
     "output_type": "stream",
     "text": [
      "234\n",
      "dict_keys(['', 'manufacturer', 'model', 'displ', 'year', 'cyl', 'trans', 'drv', 'cty', 'hwy', 'fl', 'class'])\n",
      "16.858974358974358\n",
      "23.44017094017094\n"
     ]
    }
   ],
   "source": [
    "# Python中读写csv文件(mpg为每加仑燃油所行的英里数)\n",
    "\n",
    "import csv\n",
    "\n",
    "%precision 2\n",
    "\n",
    "with open('C:\\\\Users\\\\asus\\\\Desktop\\\\Coursera\\\\Applied Data Science with Python\\\\(1) Introduction to Data Science in Python\\\\dataset\\\\mpg.csv') as csvfile:\n",
    "    mpg = list(csv.DictReader(csvfile))\n",
    "    \n",
    "    \n",
    "# 求csv文件的长度\n",
    "print(len(mpg))\n",
    "\n",
    "# 求csv文件每列的名称\n",
    "print(mpg[0].keys())\n",
    "\n",
    "#求平均每辆汽车在城市中的mpg\n",
    "print(sum(float(d['cty']) for d in mpg) / len(mpg))\n",
    "\n",
    "#求平均每辆汽车在高速公路上的mpg\n",
    "print(sum(float(d['hwy']) for d in mpg) / len(mpg))\n",
    "\n"
   ]
  },
  {
   "cell_type": "code",
   "execution_count": 5,
   "id": "459b5976",
   "metadata": {},
   "outputs": [
    {
     "name": "stdout",
     "output_type": "stream",
     "text": [
      "{'8', '4', '6', '5'}\n",
      "[('4', 21.012345679012345), ('5', 20.5), ('6', 16.21518987341772), ('8', 12.571428571428571)]\n"
     ]
    }
   ],
   "source": [
    "# 对于不同数量的汽车cylinders，求其在城市中的平均mpg\n",
    "\n",
    "cylinders = set(d['cyl'] for d in mpg) #set()函数求可迭代对象中元素的种类，重复的删除\n",
    "print(cylinders)\n",
    "\n",
    "CtyMpgByCyl = list()\n",
    "\n",
    "for c in cylinders:\n",
    "    AmountByCyl = 0\n",
    "    NumberByCyl = 0\n",
    "    for d in mpg:\n",
    "        if d['cyl'] != c:\n",
    "            continue\n",
    "        else:\n",
    "            AmountByCyl += float(d['cty'])\n",
    "            NumberByCyl += 1\n",
    "    AverageByCyl = AmountByCyl / NumberByCyl\n",
    "    CtyMpgByCyl.append((c, AverageByCyl))\n",
    "    \n",
    "CtyMpgByCyl.sort(key = lambda x:x[0])\n",
    "print(CtyMpgByCyl)"
   ]
  },
  {
   "cell_type": "code",
   "execution_count": 6,
   "id": "a5b0402c",
   "metadata": {},
   "outputs": [
    {
     "name": "stdout",
     "output_type": "stream",
     "text": [
      "{'minivan', 'pickup', '2seater', 'midsize', 'compact', 'suv', 'subcompact'}\n",
      "[('pickup', 16.87878787878788), ('suv', 18.129032258064516), ('minivan', 22.363636363636363), ('2seater', 24.8), ('midsize', 27.29268292682927), ('subcompact', 28.142857142857142), ('compact', 28.29787234042553)]\n"
     ]
    }
   ],
   "source": [
    "# 对于不同数量的汽车类别，求其在高速公路上的平均mpg\n",
    "\n",
    "vehicle_classes = set(d['class'] for d in mpg)\n",
    "print(vehicle_classes)\n",
    "\n",
    "HwyMpgByClasses = list()\n",
    "\n",
    "for c in vehicle_classes:\n",
    "    AmountByClasses = 0\n",
    "    NumberByClasses = 0\n",
    "    for d in mpg:\n",
    "        if d['class'] != c:\n",
    "            continue\n",
    "        else:\n",
    "            AmountByClasses += float(d['hwy'])\n",
    "            NumberByClasses += 1\n",
    "    AverageByClasses = AmountByClasses / NumberByClasses\n",
    "    HwyMpgByClasses.append((c,AverageByClasses))\n",
    "    \n",
    "HwyMpgByClasses.sort(key = lambda x:x[1])\n",
    "print(HwyMpgByClasses)"
   ]
  },
  {
   "cell_type": "markdown",
   "id": "6bc5317f",
   "metadata": {},
   "source": [
    "# The Python Programming Language: Dates and Times"
   ]
  },
  {
   "cell_type": "code",
   "execution_count": 7,
   "id": "ba315b98",
   "metadata": {
    "scrolled": true
   },
   "outputs": [
    {
     "name": "stdout",
     "output_type": "stream",
     "text": [
      "1631485517.9054713\n",
      "time.struct_time(tm_year=2021, tm_mon=9, tm_mday=12, tm_hour=18, tm_min=25, tm_sec=17, tm_wday=6, tm_yday=255, tm_isdst=1)\n",
      "Sun Sep 12 18:25:17 2021\n"
     ]
    }
   ],
   "source": [
    "import datetime as dt\n",
    "import time as tm\n",
    "\n",
    "print(tm.time()) #1970年后经过的浮点秒数\n",
    "\n",
    "print(tm.localtime(tm.time()))\n",
    "print(tm.asctime(tm.localtime(tm.time())))"
   ]
  },
  {
   "cell_type": "code",
   "execution_count": 8,
   "id": "e1c1bf62",
   "metadata": {},
   "outputs": [
    {
     "data": {
      "text/plain": [
       "datetime.datetime(2021, 9, 12, 18, 25, 17, 921027)"
      ]
     },
     "execution_count": 8,
     "metadata": {},
     "output_type": "execute_result"
    }
   ],
   "source": [
    "dtnow = dt.datetime.fromtimestamp(tm.time())\n",
    "dtnow"
   ]
  },
  {
   "cell_type": "code",
   "execution_count": 9,
   "id": "f330232b",
   "metadata": {},
   "outputs": [
    {
     "data": {
      "text/plain": [
       "(2021, 9, 12, 18, 25, 17)"
      ]
     },
     "execution_count": 9,
     "metadata": {},
     "output_type": "execute_result"
    }
   ],
   "source": [
    "dtnow.year, dtnow.month, dtnow.day, dtnow.hour, dtnow.minute, dtnow.second"
   ]
  },
  {
   "cell_type": "code",
   "execution_count": 10,
   "id": "d2a1ad48",
   "metadata": {},
   "outputs": [
    {
     "data": {
      "text/plain": [
       "datetime.timedelta(days=100)"
      ]
     },
     "execution_count": 10,
     "metadata": {},
     "output_type": "execute_result"
    }
   ],
   "source": [
    "delta = dt.timedelta(days = 100)\n",
    "delta"
   ]
  },
  {
   "cell_type": "code",
   "execution_count": 11,
   "id": "bc2ab67a",
   "metadata": {},
   "outputs": [],
   "source": [
    "today = dt.date.today()"
   ]
  },
  {
   "cell_type": "code",
   "execution_count": 12,
   "id": "c89cb759",
   "metadata": {},
   "outputs": [
    {
     "data": {
      "text/plain": [
       "datetime.date(2021, 6, 4)"
      ]
     },
     "execution_count": 12,
     "metadata": {},
     "output_type": "execute_result"
    }
   ],
   "source": [
    "today - delta"
   ]
  },
  {
   "cell_type": "code",
   "execution_count": 13,
   "id": "1981c484",
   "metadata": {},
   "outputs": [
    {
     "data": {
      "text/plain": [
       "True"
      ]
     },
     "execution_count": 13,
     "metadata": {},
     "output_type": "execute_result"
    }
   ],
   "source": [
    "today > today - delta"
   ]
  },
  {
   "cell_type": "markdown",
   "id": "5651f45f",
   "metadata": {},
   "source": [
    "# The Python Programming Language: Objects and map()"
   ]
  },
  {
   "cell_type": "code",
   "execution_count": 14,
   "id": "016f422f",
   "metadata": {},
   "outputs": [],
   "source": [
    "class Person:\n",
    "    department = 'School of Information'\n",
    "    \n",
    "    def set_name(self, new_name):\n",
    "        self.name = new_name\n",
    "    def set_location(self, new_location):\n",
    "        self.location = new_location"
   ]
  },
  {
   "cell_type": "code",
   "execution_count": 15,
   "id": "41d2e29a",
   "metadata": {},
   "outputs": [
    {
     "name": "stdout",
     "output_type": "stream",
     "text": [
      "<map object at 0x000002082BF0EF10>\n",
      "9.0\n",
      "11.0\n",
      "12.34\n",
      "2.01\n"
     ]
    }
   ],
   "source": [
    "# 实例介绍map()，两家商店相同物品的价格\n",
    "\n",
    "store1 = [10.00, 11.00, 12.34, 2.34]\n",
    "store2 = [9.00, 11.10, 12.34, 2.01]\n",
    "cheapest = map(min, store1, store2)\n",
    "\n",
    "print(cheapest)\n",
    "\n",
    "for i in cheapest:\n",
    "    print(i)"
   ]
  },
  {
   "cell_type": "code",
   "execution_count": 16,
   "id": "af859167",
   "metadata": {},
   "outputs": [
    {
     "name": "stdout",
     "output_type": "stream",
     "text": [
      "<map object at 0x000002082BF0E7C0>\n",
      "[1, 9, 25, 49, 81]\n",
      "[1, 9, 25, 49, 81]\n"
     ]
    }
   ],
   "source": [
    "# 另一个实例\n",
    "\n",
    "def square(x):\n",
    "    return x**2\n",
    "\n",
    "print(map(square, [1, 3, 5, 7, 9]))\n",
    "\n",
    "print(list(map(square, [1, 3, 5, 7, 9]))) #使用list()转换为列表\n",
    "\n",
    "print(list(map(lambda x:x**2, [1, 3, 5, 7, 9])))"
   ]
  },
  {
   "cell_type": "markdown",
   "id": "5080d9cd",
   "metadata": {},
   "source": [
    "# The Python Programming Lanuage: Lambda and List Comprehensions\n",
    "Lambda is the way that Python creating anonymous functions, these are the same as other functions but they have no name. They are simple and short-lived and it is easier to write out the function in one line, instead of trying to create a named function. "
   ]
  },
  {
   "cell_type": "code",
   "execution_count": 17,
   "id": "d6b26db6",
   "metadata": {},
   "outputs": [],
   "source": [
    "my_function = lambda a, b, c : a + b"
   ]
  },
  {
   "cell_type": "code",
   "execution_count": 18,
   "id": "adea5673",
   "metadata": {},
   "outputs": [
    {
     "data": {
      "text/plain": [
       "3"
      ]
     },
     "execution_count": 18,
     "metadata": {},
     "output_type": "execute_result"
    }
   ],
   "source": [
    "my_function(1, 2, 3)"
   ]
  },
  {
   "cell_type": "code",
   "execution_count": 19,
   "id": "39e50196",
   "metadata": {},
   "outputs": [
    {
     "name": "stdout",
     "output_type": "stream",
     "text": [
      "[0, 2, 4, 6, 8, 10, 12, 14, 16, 18, 20, 22, 24, 26, 28, 30, 32, 34, 36, 38, 40, 42, 44, 46, 48, 50, 52, 54, 56, 58, 60, 62, 64, 66, 68, 70, 72, 74, 76, 78, 80, 82, 84, 86, 88, 90, 92, 94, 96, 98, 100, 102, 104, 106, 108, 110, 112, 114, 116, 118, 120, 122, 124, 126, 128, 130, 132, 134, 136, 138, 140, 142, 144, 146, 148, 150, 152, 154, 156, 158, 160, 162, 164, 166, 168, 170, 172, 174, 176, 178, 180, 182, 184, 186, 188, 190, 192, 194, 196, 198, 200, 202, 204, 206, 208, 210, 212, 214, 216, 218, 220, 222, 224, 226, 228, 230, 232, 234, 236, 238, 240, 242, 244, 246, 248, 250, 252, 254, 256, 258, 260, 262, 264, 266, 268, 270, 272, 274, 276, 278, 280, 282, 284, 286, 288, 290, 292, 294, 296, 298, 300, 302, 304, 306, 308, 310, 312, 314, 316, 318, 320, 322, 324, 326, 328, 330, 332, 334, 336, 338, 340, 342, 344, 346, 348, 350, 352, 354, 356, 358, 360, 362, 364, 366, 368, 370, 372, 374, 376, 378, 380, 382, 384, 386, 388, 390, 392, 394, 396, 398, 400, 402, 404, 406, 408, 410, 412, 414, 416, 418, 420, 422, 424, 426, 428, 430, 432, 434, 436, 438, 440, 442, 444, 446, 448, 450, 452, 454, 456, 458, 460, 462, 464, 466, 468, 470, 472, 474, 476, 478, 480, 482, 484, 486, 488, 490, 492, 494, 496, 498, 500, 502, 504, 506, 508, 510, 512, 514, 516, 518, 520, 522, 524, 526, 528, 530, 532, 534, 536, 538, 540, 542, 544, 546, 548, 550, 552, 554, 556, 558, 560, 562, 564, 566, 568, 570, 572, 574, 576, 578, 580, 582, 584, 586, 588, 590, 592, 594, 596, 598, 600, 602, 604, 606, 608, 610, 612, 614, 616, 618, 620, 622, 624, 626, 628, 630, 632, 634, 636, 638, 640, 642, 644, 646, 648, 650, 652, 654, 656, 658, 660, 662, 664, 666, 668, 670, 672, 674, 676, 678, 680, 682, 684, 686, 688, 690, 692, 694, 696, 698, 700, 702, 704, 706, 708, 710, 712, 714, 716, 718, 720, 722, 724, 726, 728, 730, 732, 734, 736, 738, 740, 742, 744, 746, 748, 750, 752, 754, 756, 758, 760, 762, 764, 766, 768, 770, 772, 774, 776, 778, 780, 782, 784, 786, 788, 790, 792, 794, 796, 798, 800, 802, 804, 806, 808, 810, 812, 814, 816, 818, 820, 822, 824, 826, 828, 830, 832, 834, 836, 838, 840, 842, 844, 846, 848, 850, 852, 854, 856, 858, 860, 862, 864, 866, 868, 870, 872, 874, 876, 878, 880, 882, 884, 886, 888, 890, 892, 894, 896, 898, 900, 902, 904, 906, 908, 910, 912, 914, 916, 918, 920, 922, 924, 926, 928, 930, 932, 934, 936, 938, 940, 942, 944, 946, 948, 950, 952, 954, 956, 958, 960, 962, 964, 966, 968, 970, 972, 974, 976, 978, 980, 982, 984, 986, 988, 990, 992, 994, 996, 998]\n"
     ]
    }
   ],
   "source": [
    "my_list = list()\n",
    "\n",
    "for number in range(0,1000):\n",
    "    if number%2 == 0:\n",
    "        my_list.append(number)\n",
    "\n",
    "print(my_list)\n",
    "        "
   ]
  },
  {
   "cell_type": "code",
   "execution_count": 20,
   "id": "3b799f91",
   "metadata": {},
   "outputs": [
    {
     "name": "stdout",
     "output_type": "stream",
     "text": [
      "[0, 2, 4, 6, 8, 10, 12, 14, 16, 18, 20, 22, 24, 26, 28, 30, 32, 34, 36, 38, 40, 42, 44, 46, 48, 50, 52, 54, 56, 58, 60, 62, 64, 66, 68, 70, 72, 74, 76, 78, 80, 82, 84, 86, 88, 90, 92, 94, 96, 98, 100, 102, 104, 106, 108, 110, 112, 114, 116, 118, 120, 122, 124, 126, 128, 130, 132, 134, 136, 138, 140, 142, 144, 146, 148, 150, 152, 154, 156, 158, 160, 162, 164, 166, 168, 170, 172, 174, 176, 178, 180, 182, 184, 186, 188, 190, 192, 194, 196, 198, 200, 202, 204, 206, 208, 210, 212, 214, 216, 218, 220, 222, 224, 226, 228, 230, 232, 234, 236, 238, 240, 242, 244, 246, 248, 250, 252, 254, 256, 258, 260, 262, 264, 266, 268, 270, 272, 274, 276, 278, 280, 282, 284, 286, 288, 290, 292, 294, 296, 298, 300, 302, 304, 306, 308, 310, 312, 314, 316, 318, 320, 322, 324, 326, 328, 330, 332, 334, 336, 338, 340, 342, 344, 346, 348, 350, 352, 354, 356, 358, 360, 362, 364, 366, 368, 370, 372, 374, 376, 378, 380, 382, 384, 386, 388, 390, 392, 394, 396, 398, 400, 402, 404, 406, 408, 410, 412, 414, 416, 418, 420, 422, 424, 426, 428, 430, 432, 434, 436, 438, 440, 442, 444, 446, 448, 450, 452, 454, 456, 458, 460, 462, 464, 466, 468, 470, 472, 474, 476, 478, 480, 482, 484, 486, 488, 490, 492, 494, 496, 498, 500, 502, 504, 506, 508, 510, 512, 514, 516, 518, 520, 522, 524, 526, 528, 530, 532, 534, 536, 538, 540, 542, 544, 546, 548, 550, 552, 554, 556, 558, 560, 562, 564, 566, 568, 570, 572, 574, 576, 578, 580, 582, 584, 586, 588, 590, 592, 594, 596, 598, 600, 602, 604, 606, 608, 610, 612, 614, 616, 618, 620, 622, 624, 626, 628, 630, 632, 634, 636, 638, 640, 642, 644, 646, 648, 650, 652, 654, 656, 658, 660, 662, 664, 666, 668, 670, 672, 674, 676, 678, 680, 682, 684, 686, 688, 690, 692, 694, 696, 698, 700, 702, 704, 706, 708, 710, 712, 714, 716, 718, 720, 722, 724, 726, 728, 730, 732, 734, 736, 738, 740, 742, 744, 746, 748, 750, 752, 754, 756, 758, 760, 762, 764, 766, 768, 770, 772, 774, 776, 778, 780, 782, 784, 786, 788, 790, 792, 794, 796, 798, 800, 802, 804, 806, 808, 810, 812, 814, 816, 818, 820, 822, 824, 826, 828, 830, 832, 834, 836, 838, 840, 842, 844, 846, 848, 850, 852, 854, 856, 858, 860, 862, 864, 866, 868, 870, 872, 874, 876, 878, 880, 882, 884, 886, 888, 890, 892, 894, 896, 898, 900, 902, 904, 906, 908, 910, 912, 914, 916, 918, 920, 922, 924, 926, 928, 930, 932, 934, 936, 938, 940, 942, 944, 946, 948, 950, 952, 954, 956, 958, 960, 962, 964, 966, 968, 970, 972, 974, 976, 978, 980, 982, 984, 986, 988, 990, 992, 994, 996, 998]\n"
     ]
    }
   ],
   "source": [
    "my_list = [number for number in range(0,1000) if number%2 == 0]\n",
    "print(my_list)"
   ]
  },
  {
   "cell_type": "code",
   "execution_count": 21,
   "id": "137753cf",
   "metadata": {},
   "outputs": [
    {
     "data": {
      "text/plain": [
       "True"
      ]
     },
     "execution_count": 21,
     "metadata": {},
     "output_type": "execute_result"
    }
   ],
   "source": [
    "def times_tables():\n",
    "    lst = []\n",
    "    for i in range(10):\n",
    "        for j in range (10):\n",
    "            lst.append(i*j)\n",
    "    return lst\n",
    "\n",
    "times_tables() == [i*j for i in range(10) for j in range(10)]"
   ]
  }
 ],
 "metadata": {
  "kernelspec": {
   "display_name": "Python 3",
   "language": "python",
   "name": "python3"
  },
  "language_info": {
   "codemirror_mode": {
    "name": "ipython",
    "version": 3
   },
   "file_extension": ".py",
   "mimetype": "text/x-python",
   "name": "python",
   "nbconvert_exporter": "python",
   "pygments_lexer": "ipython3",
   "version": "3.8.8"
  }
 },
 "nbformat": 4,
 "nbformat_minor": 5
}
