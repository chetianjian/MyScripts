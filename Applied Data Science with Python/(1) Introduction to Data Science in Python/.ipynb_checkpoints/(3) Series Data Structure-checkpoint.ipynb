{
 "cells": [
  {
   "cell_type": "markdown",
   "id": "01cf089e",
   "metadata": {},
   "source": [
    "In this lecture we're going to explore the pandas Series structure. By the end of this lecture you should be \n",
    "familiar with how to store and manipulate single dimensional indexed data in the Series object.\n",
    "\n",
    "The series is one of the core data structures in pandas. You think of it a cross between a list and a dictionary.\n",
    "The items are all stored in an order and there's labels with which you can retrieve them. An easy way to \n",
    "visualize this is two columns of data. The first is the special index, a lot like keys in a dictionary. While the\n",
    "second is your actual data. It's important to note that the data column has a label of its own and can be \n",
    "retrieved using the .name attribute. This is different than with dictionaries and is useful when it comes to \n",
    "merging multiple columns of data. And we'll talk about that later on in the course."
   ]
  },
  {
   "cell_type": "code",
   "execution_count": 1,
   "id": "8a135166",
   "metadata": {},
   "outputs": [],
   "source": [
    "import pandas as pd"
   ]
  },
  {
   "cell_type": "markdown",
   "id": "985bca82",
   "metadata": {},
   "source": [
    "最简单构建一个series的方式是，直接导入一个类array的object，例如一个list。在这种操作下，pandas会自动从0开始为index赋值。"
   ]
  },
  {
   "cell_type": "code",
   "execution_count": 3,
   "id": "95b51e67",
   "metadata": {},
   "outputs": [
    {
     "data": {
      "text/plain": [
       "0    Alice\n",
       "1     Jack\n",
       "2    Molly\n",
       "dtype: object"
      ]
     },
     "execution_count": 3,
     "metadata": {},
     "output_type": "execute_result"
    }
   ],
   "source": [
    "students = ['Alice', 'Jack', 'Molly']\n",
    "pd.Series(students)"
   ]
  },
  {
   "cell_type": "markdown",
   "id": "e8b36b67",
   "metadata": {},
   "source": [
    "The result is a Series object which is nicely rendered to the screen. We see here that the pandas has automatically identified the type of data in this Series as \"object\" and set the dytpe parameter as appropriate. We see that the values are indexed with integers, starting at zero.\n",
    "\n",
    "We don't have to use strings. If we passed in a list of whole numbers, for instance, we could see that panda sets the type to int64. Underneath panda stores series values in a typed array using the Numpy library. This offers significant speedup when processing data versus traditional python lists."
   ]
  },
  {
   "cell_type": "code",
   "execution_count": 4,
   "id": "c235635f",
   "metadata": {},
   "outputs": [
    {
     "data": {
      "text/plain": [
       "0    1\n",
       "1    2\n",
       "2    3\n",
       "dtype: int64"
      ]
     },
     "execution_count": 4,
     "metadata": {},
     "output_type": "execute_result"
    }
   ],
   "source": [
    "# Lets create a little list of numbers\n",
    "numbers = [1, 2, 3]\n",
    "\n",
    "# And turn that into a series\n",
    "pd.Series(numbers)"
   ]
  },
  {
   "cell_type": "markdown",
   "id": "bcc5f1f0",
   "metadata": {},
   "source": [
    "Numpy和Pandas如何处理缺失数据？\n",
    "\n",
    "In Python, we have the none type to indicate a lack of data. But what do we do if we want to have a typed list like we do in the series object?\n",
    "\n",
    "Underneath, pandas does some type conversion. If we create a list of strings and we have one element, a None type, pandas inserts it as a None and uses the type object for the underlying array. "
   ]
  },
  {
   "cell_type": "code",
   "execution_count": 5,
   "id": "07b0e1b9",
   "metadata": {},
   "outputs": [
    {
     "data": {
      "text/plain": [
       "0    Alice\n",
       "1     Jack\n",
       "2     None\n",
       "dtype: object"
      ]
     },
     "execution_count": 5,
     "metadata": {},
     "output_type": "execute_result"
    }
   ],
   "source": [
    "# Let's recreate our list of students, but leave the last one as a None\n",
    "students = ['Alice', 'Jack', None]\n",
    "\n",
    "# And lets convert this to a series\n",
    "pd.Series(students)"
   ]
  },
  {
   "cell_type": "code",
   "execution_count": 6,
   "id": "d0e258ff",
   "metadata": {},
   "outputs": [
    {
     "data": {
      "text/plain": [
       "0    1.0\n",
       "1    2.0\n",
       "2    NaN\n",
       "dtype: float64"
      ]
     },
     "execution_count": 6,
     "metadata": {},
     "output_type": "execute_result"
    }
   ],
   "source": [
    "# However, if we create a list of numbers, integers or floats, and put in the None type,\n",
    "# pandas automatically converts this to a special floating point value designated as NaN, \n",
    "# which stands for \"Not a Number\".\n",
    "\n",
    "# So lets create a list with a None value in it\n",
    "numbers = [1, 2, None]\n",
    "# And turn that into a series\n",
    "pd.Series(numbers)"
   ]
  },
  {
   "cell_type": "markdown",
   "id": "c1346e6c",
   "metadata": {},
   "source": [
    "You'll notice a couple of things. \n",
    "\n",
    "First, NaN is a different value. \n",
    "\n",
    "Second, pandas set the dytpe of this series to floating point numbers instead of object or ints. That's maybe a bit of a surprise - why not just leave this as an integer? Underneath, pandas represents NaN as a floating point number, and because integers can be typecast to floats, pandas went and converted our integers to floats. So when you're wondering why the list of integers you put into a Series become floats, it's probably because there is some missing data.\n",
    "\n",
    "For those who might not have done scientific computing in Python before, it is important to stress that None and NaN might be being used by the data scientist in the same way, to denote missing data, but that underneath these are not represented by pandas in the same way.\n",
    "\n",
    "NaN is NOT equivilent to None and when we try the equality test, the result is False."
   ]
  },
  {
   "cell_type": "code",
   "execution_count": 8,
   "id": "a3b63af8",
   "metadata": {},
   "outputs": [
    {
     "data": {
      "text/plain": [
       "False"
      ]
     },
     "execution_count": 8,
     "metadata": {},
     "output_type": "execute_result"
    }
   ],
   "source": [
    "# Lets bring in numpy which allows us to generate an NaN value\n",
    "import numpy as np\n",
    "\n",
    "# And lets compare it to None\n",
    "np.nan == None"
   ]
  },
  {
   "cell_type": "code",
   "execution_count": 9,
   "id": "6f280946",
   "metadata": {},
   "outputs": [
    {
     "data": {
      "text/plain": [
       "False"
      ]
     },
     "execution_count": 9,
     "metadata": {},
     "output_type": "execute_result"
    }
   ],
   "source": [
    "# It turns out that you actually can't do an equality test of NAN to itself. When you do, \n",
    "# the answer is always False. \n",
    "\n",
    "np.nan == np.nan"
   ]
  },
  {
   "cell_type": "code",
   "execution_count": 10,
   "id": "38683f8c",
   "metadata": {},
   "outputs": [
    {
     "data": {
      "text/plain": [
       "True"
      ]
     },
     "execution_count": 10,
     "metadata": {},
     "output_type": "execute_result"
    }
   ],
   "source": [
    "# Instead, you need to use special functions to test for the presence of not a number, \n",
    "# such as the Numpy library isnan().\n",
    "\n",
    "np.isnan(np.nan)"
   ]
  },
  {
   "cell_type": "markdown",
   "id": "f0755bfe",
   "metadata": {},
   "source": [
    "NaN is similar to None, but it's a numeric value and treated differently for efficiency reasons.\n",
    "\n",
    "Let's talk more about how pandas' Series can be created. While my list might be a common way to create some data, often you have label data that you want to manipulate. A series can be created directly from dictionary data. If you do this, the index is automatically assigned to the keys of the dictionary that you provided and not just incrementing integers."
   ]
  },
  {
   "cell_type": "code",
   "execution_count": 12,
   "id": "ffec77af",
   "metadata": {},
   "outputs": [
    {
     "data": {
      "text/plain": [
       "Alice      Physics\n",
       "Jack     Chemistry\n",
       "Molly      English\n",
       "dtype: object"
      ]
     },
     "execution_count": 12,
     "metadata": {},
     "output_type": "execute_result"
    }
   ],
   "source": [
    "# Here's an example using some data of students and their classes.\n",
    "\n",
    "students_scores = {'Alice': 'Physics',\n",
    "                   'Jack': 'Chemistry',\n",
    "                   'Molly': 'English'}\n",
    "s = pd.Series(students_scores)\n",
    "s\n",
    "\n",
    "# We see that, since it was string data, pandas set the data type of the series to \"object\".\n",
    "# We see that the index, the first column, is also a list of strings."
   ]
  },
  {
   "cell_type": "code",
   "execution_count": 13,
   "id": "3389b071",
   "metadata": {},
   "outputs": [
    {
     "data": {
      "text/plain": [
       "Index(['Alice', 'Jack', 'Molly'], dtype='object')"
      ]
     },
     "execution_count": 13,
     "metadata": {},
     "output_type": "execute_result"
    }
   ],
   "source": [
    "s.index"
   ]
  },
  {
   "cell_type": "code",
   "execution_count": 15,
   "id": "9df31eee",
   "metadata": {},
   "outputs": [
    {
     "data": {
      "text/plain": [
       "0    (Alice, Brown)\n",
       "1     (Jack, White)\n",
       "2    (Molly, Green)\n",
       "dtype: object"
      ]
     },
     "execution_count": 15,
     "metadata": {},
     "output_type": "execute_result"
    }
   ],
   "source": [
    "# Now, this is kind of interesting. The dtype of object is not just for strings, but for\n",
    "# arbitrary objects. Lets create a more complex type of data, say, a list of tuples.\n",
    "\n",
    "students = [(\"Alice\",\"Brown\"), (\"Jack\", \"White\"), (\"Molly\", \"Green\")]\n",
    "pd.Series(students)"
   ]
  },
  {
   "cell_type": "code",
   "execution_count": 17,
   "id": "18ee41a6",
   "metadata": {},
   "outputs": [
    {
     "data": {
      "text/plain": [
       "Alice      Physics\n",
       "Jack     Chemistry\n",
       "Molly      English\n",
       "dtype: object"
      ]
     },
     "execution_count": 17,
     "metadata": {},
     "output_type": "execute_result"
    }
   ],
   "source": [
    "# 另一种方法以创造一个自定义index的series\n",
    "\n",
    "s = pd.Series(['Physics', 'Chemistry', 'English'], index = ['Alice', 'Jack', 'Molly'])\n",
    "s"
   ]
  },
  {
   "cell_type": "code",
   "execution_count": 18,
   "id": "559a6c3e",
   "metadata": {},
   "outputs": [
    {
     "data": {
      "text/plain": [
       "Alice      Physics\n",
       "Jack     Chemistry\n",
       "Sam            NaN\n",
       "dtype: object"
      ]
     },
     "execution_count": 18,
     "metadata": {},
     "output_type": "execute_result"
    }
   ],
   "source": [
    "# 构建series的时候，如果index和dictionary中的键不一致的时候，pandas只会考虑所提供的所有index。即，它会无视\n",
    "# 不在index list中的却在dictionary中的那些键，而对于在index list中却不在dictionary中的那些键，pandas会自动为\n",
    "# 这些index生成NaN或者None。\n",
    "\n",
    "student_scores = {'Alice': 'Physics', 'Jack': 'Chemistry', 'Molly': 'English'}\n",
    "s = pd.Series(student_scores, index = ['Alice', 'Jack', 'Sam'])\n",
    "s"
   ]
  },
  {
   "cell_type": "markdown",
   "id": "dce21800",
   "metadata": {},
   "source": [
    "# Querying a Series"
   ]
  },
  {
   "cell_type": "markdown",
   "id": "3e50ec3a",
   "metadata": {},
   "source": [
    "A pandas Series can be queried either by the index position or the index label. If you don't give an index to the series when querying, the position and the label are effectively the same values. To query by numeric location, starting at zero, use the iloc attribute. To query by the index label, you can use the loc attribute. "
   ]
  },
  {
   "cell_type": "code",
   "execution_count": 19,
   "id": "bd02833c",
   "metadata": {
    "scrolled": true
   },
   "outputs": [
    {
     "data": {
      "text/plain": [
       "Alice      Physics\n",
       "Jack     Chemistry\n",
       "Molly      English\n",
       "Sam        History\n",
       "dtype: object"
      ]
     },
     "execution_count": 19,
     "metadata": {},
     "output_type": "execute_result"
    }
   ],
   "source": [
    "# Lets start with an example. We'll use students enrolled in classes coming from a dictionary\n",
    "\n",
    "import pandas as pd\n",
    "students_classes = {'Alice': 'Physics',\n",
    "                   'Jack': 'Chemistry',\n",
    "                   'Molly': 'English',\n",
    "                   'Sam': 'History'}\n",
    "s = pd.Series(students_classes)\n",
    "s"
   ]
  },
  {
   "cell_type": "code",
   "execution_count": 20,
   "id": "9338ef23",
   "metadata": {},
   "outputs": [
    {
     "data": {
      "text/plain": [
       "'History'"
      ]
     },
     "execution_count": 20,
     "metadata": {},
     "output_type": "execute_result"
    }
   ],
   "source": [
    "# So, for this series, if you wanted to see the fourth entry we would we would use the iloc attribute with the parameter 3.\n",
    "\n",
    "s.iloc[3]"
   ]
  },
  {
   "cell_type": "code",
   "execution_count": 21,
   "id": "9fa38ee7",
   "metadata": {},
   "outputs": [
    {
     "data": {
      "text/plain": [
       "'English'"
      ]
     },
     "execution_count": 21,
     "metadata": {},
     "output_type": "execute_result"
    }
   ],
   "source": [
    "# If you wanted to see what class Molly has, we would use the loc attribute with a parameter of Molly.\n",
    "\n",
    "s.loc['Molly']"
   ]
  },
  {
   "cell_type": "markdown",
   "id": "1cd51642",
   "metadata": {},
   "source": [
    "iloc和loc不是method，而是attribute，所以不用()，而是用[]，即索引符。"
   ]
  },
  {
   "cell_type": "code",
   "execution_count": 23,
   "id": "84d800b2",
   "metadata": {},
   "outputs": [
    {
     "data": {
      "text/plain": [
       "'History'"
      ]
     },
     "execution_count": 23,
     "metadata": {},
     "output_type": "execute_result"
    }
   ],
   "source": [
    "# Pandas tries to make our code a bit more readable and provides a sort of smart syntax using \n",
    "# the indexing operator directly on the series itself. For instance, if you pass in an integer parameter, \n",
    "# the operator will behave as if you want it to query via the iloc attribute\n",
    "\n",
    "s[3]\n",
    "\n",
    "# 等价于s.iloc[3]"
   ]
  },
  {
   "cell_type": "code",
   "execution_count": 25,
   "id": "6f1a02e8",
   "metadata": {},
   "outputs": [
    {
     "data": {
      "text/plain": [
       "'English'"
      ]
     },
     "execution_count": 25,
     "metadata": {},
     "output_type": "execute_result"
    }
   ],
   "source": [
    "# If you pass in an object, it will query as if you wanted to use the label based loc attribute.\n",
    "\n",
    "s['Molly']\n",
    "\n",
    "# 等价于s.loc['Molly']"
   ]
  },
  {
   "cell_type": "markdown",
   "id": "8427073f",
   "metadata": {},
   "source": [
    "这也会存在一个问题，如果index正好为integer呢？这时候pandas不能判断你是想query by index position or index label。最保险的做法还是使用iloc和loc的attribute。"
   ]
  },
  {
   "cell_type": "markdown",
   "id": "aa13c6c2",
   "metadata": {},
   "source": [
    "# 迭代"
   ]
  },
  {
   "cell_type": "markdown",
   "id": "5fad56a3",
   "metadata": {},
   "source": [
    "假设我们创造一个series来表示学生的分数，现在求平均分"
   ]
  },
  {
   "cell_type": "code",
   "execution_count": 28,
   "id": "a5c0d631",
   "metadata": {},
   "outputs": [
    {
     "name": "stdout",
     "output_type": "stream",
     "text": [
      "75.0\n"
     ]
    }
   ],
   "source": [
    "grades = pd.Series([90, 80 ,70 ,60])\n",
    "\n",
    "total = 0\n",
    "for grade in grades:\n",
    "    total += grade\n",
    "print(total/len(grades))"
   ]
  },
  {
   "cell_type": "markdown",
   "id": "0a067f64",
   "metadata": {},
   "source": [
    "这是一种求平均数的方法，但是太慢了，现在介绍numpy sum method"
   ]
  },
  {
   "cell_type": "code",
   "execution_count": 29,
   "id": "3bdafd58",
   "metadata": {},
   "outputs": [
    {
     "name": "stdout",
     "output_type": "stream",
     "text": [
      "75.0\n"
     ]
    }
   ],
   "source": [
    "import numpy as np\n",
    "\n",
    "total = np.sum(grades)\n",
    "print(total/len(grades))"
   ]
  },
  {
   "cell_type": "code",
   "execution_count": 31,
   "id": "b1a1c9d9",
   "metadata": {},
   "outputs": [
    {
     "data": {
      "text/plain": [
       "0    938\n",
       "1    589\n",
       "2    208\n",
       "3    356\n",
       "4    574\n",
       "dtype: int32"
      ]
     },
     "execution_count": 31,
     "metadata": {},
     "output_type": "execute_result"
    }
   ],
   "source": [
    "# 比较哪种求平均数的方法更快\n",
    "\n",
    "numbers = pd.Series(np.random.randint(0, 1000, 10000)) # 0到1000内的10000个随机整数\n",
    "\n",
    "# 观察series中的前五项\n",
    "numbers.head()"
   ]
  },
  {
   "cell_type": "code",
   "execution_count": 32,
   "id": "7cff45b5",
   "metadata": {},
   "outputs": [
    {
     "data": {
      "text/plain": [
       "10000"
      ]
     },
     "execution_count": 32,
     "metadata": {},
     "output_type": "execute_result"
    }
   ],
   "source": [
    "# 使用len()来确保series的长度是正确的\n",
    "\n",
    "len(numbers)"
   ]
  },
  {
   "cell_type": "markdown",
   "id": "2ffddd63",
   "metadata": {},
   "source": [
    "Here, we're actually going to use what's called a cellular magic function. These start with two % and wrap the code in the current Jupyter cell. The function we're going to use is called timeit. This function will run our code a few times to determine, on average, how long itmakes.\n",
    "\n",
    "Let's run timeit with our original iterative code. You can give timeit the number of loops that you would like to run. By default, it is 1,000 loops. I'll ask timeit here to use 100 runs because we're recording this. Note that in order to use a cellular magic function, it has to be the first line in the cell."
   ]
  },
  {
   "cell_type": "code",
   "execution_count": 33,
   "id": "042f51b2",
   "metadata": {},
   "outputs": [
    {
     "name": "stdout",
     "output_type": "stream",
     "text": [
      "1.1 ms ± 28.6 µs per loop (mean ± std. dev. of 7 runs, 100 loops each)\n"
     ]
    }
   ],
   "source": [
    "%%timeit -n 100\n",
    "total = 0\n",
    "for number in numbers:\n",
    "    total+=number\n",
    "\n",
    "total/len(numbers)"
   ]
  },
  {
   "cell_type": "code",
   "execution_count": 34,
   "id": "18870938",
   "metadata": {},
   "outputs": [
    {
     "name": "stdout",
     "output_type": "stream",
     "text": [
      "48.5 µs ± 6.06 µs per loop (mean ± std. dev. of 7 runs, 100 loops each)\n"
     ]
    }
   ],
   "source": [
    "%%timeit -n 100\n",
    "total = np.sum(numbers)\n",
    "total/len(numbers)"
   ]
  },
  {
   "cell_type": "markdown",
   "id": "31343383",
   "metadata": {},
   "source": [
    "明显numpy sum method更快"
   ]
  },
  {
   "cell_type": "markdown",
   "id": "c439020a",
   "metadata": {},
   "source": [
    "This is a pretty shocking difference in the speed and demonstrates why one should be aware of parallel computing features and start thinking in functional programming terms.\n",
    "\n",
    "Put more simply, vectorization is the ability for a computer to execute multiple instructions at once, and with high performance chips, especially graphics cards, you can get dramatic speedups. Modern graphics cards can run thousands of instructions in parallel.\n",
    "\n",
    "A Related feature in pandas and nummy is called broadcasting. With broadcasting, you can apply an operation to every value in the series, changing the series. For instance, if we wanted to increase every random variable by 2, we could do so quickly using the += operator directly on the Series object. "
   ]
  },
  {
   "cell_type": "code",
   "execution_count": 36,
   "id": "66b6b1b8",
   "metadata": {},
   "outputs": [
    {
     "data": {
      "text/plain": [
       "0    938\n",
       "1    589\n",
       "2    208\n",
       "3    356\n",
       "4    574\n",
       "dtype: int32"
      ]
     },
     "execution_count": 36,
     "metadata": {},
     "output_type": "execute_result"
    }
   ],
   "source": [
    "numbers.head()"
   ]
  },
  {
   "cell_type": "code",
   "execution_count": 38,
   "id": "a1976c52",
   "metadata": {},
   "outputs": [],
   "source": [
    "# 现在给series中的每一项+2\n",
    "\n",
    "numbers += 2"
   ]
  },
  {
   "cell_type": "code",
   "execution_count": 39,
   "id": "c8521e00",
   "metadata": {},
   "outputs": [
    {
     "data": {
      "text/plain": [
       "0    940\n",
       "1    591\n",
       "2    210\n",
       "3    358\n",
       "4    576\n",
       "dtype: int32"
      ]
     },
     "execution_count": 39,
     "metadata": {},
     "output_type": "execute_result"
    }
   ],
   "source": [
    "numbers.head()"
   ]
  },
  {
   "cell_type": "markdown",
   "id": "ab07e3ee",
   "metadata": {},
   "source": [
    ".loc attribute不仅可以用来修改数据，还可以用来增加数据。如果输入的index不存在，那么会向Series中新建一行。虽然index有很多种类型，但pandas会自动改变numpy types\n"
   ]
  },
  {
   "cell_type": "code",
   "execution_count": 50,
   "id": "ed888327",
   "metadata": {},
   "outputs": [
    {
     "data": {
      "text/plain": [
       "0            1\n",
       "1            2\n",
       "2            3\n",
       "History    102\n",
       "dtype: int64"
      ]
     },
     "execution_count": 50,
     "metadata": {},
     "output_type": "execute_result"
    }
   ],
   "source": [
    "# Here's an example using a Series of a few numbers. \n",
    "s = pd.Series([1, 2, 3])\n",
    "\n",
    "# We could add some new value, maybe a university course\n",
    "s.loc['History'] = 102\n",
    "\n",
    "s"
   ]
  },
  {
   "cell_type": "markdown",
   "id": "de66314d",
   "metadata": {},
   "source": [
    "如果index values不是唯一的呢？这会使得pandas series\n",
    "\n",
    "Up until now I've shown only examples of a series where the index values were unique. I want to end this lecture by showing an example where index values are not unique, and this makes pandas Series a little different conceptually then, for instance, a relational database."
   ]
  },
  {
   "cell_type": "code",
   "execution_count": 65,
   "id": "3e36275d",
   "metadata": {},
   "outputs": [
    {
     "data": {
      "text/plain": [
       "Alice      Physics\n",
       "Jack     Chemistry\n",
       "Molly      English\n",
       "Sam        History\n",
       "dtype: object"
      ]
     },
     "execution_count": 65,
     "metadata": {},
     "output_type": "execute_result"
    }
   ],
   "source": [
    "students_classes = pd.Series({'Alice': 'Physics',\n",
    "                   'Jack': 'Chemistry',\n",
    "                   'Molly': 'English',\n",
    "                   'Sam': 'History'})\n",
    "students_classes"
   ]
  },
  {
   "cell_type": "code",
   "execution_count": 66,
   "id": "f73e4fe7",
   "metadata": {},
   "outputs": [
    {
     "data": {
      "text/plain": [
       "Kelly    Philosophy\n",
       "Kelly          Arts\n",
       "Kelly          Math\n",
       "dtype: object"
      ]
     },
     "execution_count": 66,
     "metadata": {},
     "output_type": "execute_result"
    }
   ],
   "source": [
    "# Now lets create a Series just for some new student Kelly, which lists all of the courses\n",
    "# she has taken. We'll set the index to Kelly, and the data to be the names of courses.\n",
    "\n",
    "kelly_classes = pd.Series(['Philosophy', 'Arts', 'Math'], index=['Kelly', 'Kelly', 'Kelly'])\n",
    "kelly_classes"
   ]
  },
  {
   "cell_type": "code",
   "execution_count": 67,
   "id": "c5762cf4",
   "metadata": {},
   "outputs": [
    {
     "data": {
      "text/plain": [
       "Alice       Physics\n",
       "Jack      Chemistry\n",
       "Molly       English\n",
       "Sam         History\n",
       "Kelly    Philosophy\n",
       "Kelly          Arts\n",
       "Kelly          Math\n",
       "dtype: object"
      ]
     },
     "execution_count": 67,
     "metadata": {},
     "output_type": "execute_result"
    }
   ],
   "source": [
    "# Finally, we can append all of the data in this new Series to the first using the .append() function.\n",
    "\n",
    "all_students_classes = students_classes.append(kelly_classes)\n",
    "\n",
    "# This creates a series which has our original people in it as well as all of Kelly's courses\n",
    "\n",
    "all_students_classes"
   ]
  },
  {
   "cell_type": "markdown",
   "id": "6a08b40c",
   "metadata": {},
   "source": [
    "注意，这里的append()和list中的append()不同。例如对于list num，执行num.append(6)，会向list num中增加新的一项6；而在这里，直接num.append()没有效果，不会改变num:"
   ]
  },
  {
   "cell_type": "code",
   "execution_count": 68,
   "id": "8180800e",
   "metadata": {},
   "outputs": [
    {
     "data": {
      "text/plain": [
       "Alice      Physics\n",
       "Jack     Chemistry\n",
       "Molly      English\n",
       "Sam        History\n",
       "dtype: object"
      ]
     },
     "execution_count": 68,
     "metadata": {},
     "output_type": "execute_result"
    }
   ],
   "source": [
    "students_classes"
   ]
  },
  {
   "cell_type": "code",
   "execution_count": 69,
   "id": "e6f48876",
   "metadata": {},
   "outputs": [
    {
     "data": {
      "text/plain": [
       "Kelly    Philosophy\n",
       "Kelly          Arts\n",
       "Kelly          Math\n",
       "dtype: object"
      ]
     },
     "execution_count": 69,
     "metadata": {},
     "output_type": "execute_result"
    }
   ],
   "source": [
    "# 如果我们向合并后的series中查找Kelly，不会得到单一的值，而是会得到一个series：\n",
    "\n",
    "all_students_classes.loc['Kelly']"
   ]
  },
  {
   "cell_type": "code",
   "execution_count": null,
   "id": "169ab446",
   "metadata": {},
   "outputs": [],
   "source": []
  }
 ],
 "metadata": {
  "kernelspec": {
   "display_name": "Python 3",
   "language": "python",
   "name": "python3"
  },
  "language_info": {
   "codemirror_mode": {
    "name": "ipython",
    "version": 3
   },
   "file_extension": ".py",
   "mimetype": "text/x-python",
   "name": "python",
   "nbconvert_exporter": "python",
   "pygments_lexer": "ipython3",
   "version": "3.8.8"
  }
 },
 "nbformat": 4,
 "nbformat_minor": 5
}
