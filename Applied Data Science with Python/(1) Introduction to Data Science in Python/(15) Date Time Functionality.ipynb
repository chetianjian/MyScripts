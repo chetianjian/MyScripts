{
 "cells": [
  {
   "cell_type": "markdown",
   "id": "96b45afe",
   "metadata": {},
   "source": [
    "In today's lecture, where we'll be looking at the time series and date functionally in pandas. Manipulating dates and time is quite flexible in Pandas and thus allows us to conduct more analysis such as time series analysis, which we will talk about soon. Actually, pandas was originally created by Wed McKinney to handle date and time data when he worked as a consultant for hedge funds."
   ]
  },
  {
   "cell_type": "code",
   "execution_count": 1,
   "id": "23dd8e2f",
   "metadata": {},
   "outputs": [],
   "source": [
    "# Let's bring in pandas and numpy as usual\n",
    "import pandas as pd\n",
    "import numpy as np"
   ]
  },
  {
   "cell_type": "markdown",
   "id": "02e36679",
   "metadata": {},
   "source": [
    "### Timestamp"
   ]
  },
  {
   "cell_type": "markdown",
   "id": "d728ef3f",
   "metadata": {},
   "source": [
    "pandas拥有四个主要的与时间相关的class，分别是Timestamp，DatetimeIndex，Period和PeriodIndex。首先看Timestamp，它代表一个单一时间戳，与某些\n",
    "时间点的值相关。\n",
    "\n",
    "例如，通过一个字符串9/1/2019 10:05AM来建立一个时间戳。"
   ]
  },
  {
   "cell_type": "code",
   "execution_count": 2,
   "id": "e637d2d8",
   "metadata": {},
   "outputs": [
    {
     "data": {
      "text/plain": [
       "Timestamp('2019-09-01 10:05:00')"
      ]
     },
     "execution_count": 2,
     "metadata": {},
     "output_type": "execute_result"
    }
   ],
   "source": [
    "# Timestamp is interchangeable with Python's datetime in most cases.\n",
    "pd.Timestamp('9/1/2019 10:05AM')"
   ]
  },
  {
   "cell_type": "code",
   "execution_count": 3,
   "id": "5e9c8418",
   "metadata": {},
   "outputs": [
    {
     "data": {
      "text/plain": [
       "Timestamp('2019-12-20 00:00:00')"
      ]
     },
     "execution_count": 3,
     "metadata": {},
     "output_type": "execute_result"
    }
   ],
   "source": [
    "# 我们还可以通过分别输入多个参数，例如year，month，date，hour，minute,来创造一个时间戳\n",
    "\n",
    "pd.Timestamp(2019, 12, 20, 0, 0)"
   ]
  },
  {
   "cell_type": "code",
   "execution_count": 4,
   "id": "3cfb0df5",
   "metadata": {},
   "outputs": [
    {
     "data": {
      "text/plain": [
       "5"
      ]
     },
     "execution_count": 4,
     "metadata": {},
     "output_type": "execute_result"
    }
   ],
   "source": [
    "# 时间戳拥有一些有用的attribute，例如isoweekday()，它表示时间戳是星期几，其中1代表周一，7代表周日\n",
    "\n",
    "pd.Timestamp(2019, 12, 20, 0, 0).isoweekday()"
   ]
  },
  {
   "cell_type": "code",
   "execution_count": 5,
   "id": "081d8e69",
   "metadata": {},
   "outputs": [
    {
     "data": {
      "text/plain": [
       "23"
      ]
     },
     "execution_count": 5,
     "metadata": {},
     "output_type": "execute_result"
    }
   ],
   "source": [
    "# 可以从一个时间戳中提取具体的year，month，day，hour，minute和second\n",
    "\n",
    "pd.Timestamp(2019, 12, 20, 5, 2, 23).second"
   ]
  },
  {
   "cell_type": "markdown",
   "id": "164a3e80",
   "metadata": {},
   "source": [
    "### Period"
   ]
  },
  {
   "cell_type": "markdown",
   "id": "e97a599f",
   "metadata": {},
   "source": [
    "假设我们对一个特定的时间点不感兴趣，而是对一段时间感兴趣，这正是period class的应用之处。Period代表了一个单一的time span，例如特定的一天或一个月。"
   ]
  },
  {
   "cell_type": "code",
   "execution_count": 6,
   "id": "99725806",
   "metadata": {},
   "outputs": [
    {
     "data": {
      "text/plain": [
       "Period('2016-01', 'M')"
      ]
     },
     "execution_count": 6,
     "metadata": {},
     "output_type": "execute_result"
    }
   ],
   "source": [
    "# Here we are creating a period that is January 2016,\n",
    "pd.Period('1/2016')"
   ]
  },
  {
   "cell_type": "code",
   "execution_count": 7,
   "id": "76e3ec55",
   "metadata": {},
   "outputs": [
    {
     "data": {
      "text/plain": [
       "Period('2016-03-05', 'D')"
      ]
     },
     "execution_count": 7,
     "metadata": {},
     "output_type": "execute_result"
    }
   ],
   "source": [
    "# You'll notice when we print that out that the granularity of the period is M for month, since that was the\n",
    "# finest grained piece we provided. Here's an example of a period that is March 5th, 2016.\n",
    "pd.Period('3/5/2016')"
   ]
  },
  {
   "cell_type": "code",
   "execution_count": 8,
   "id": "3f51506f",
   "metadata": {},
   "outputs": [
    {
     "data": {
      "text/plain": [
       "Period('2016-06', 'M')"
      ]
     },
     "execution_count": 8,
     "metadata": {},
     "output_type": "execute_result"
    }
   ],
   "source": [
    "# Period objects represent the full timespan that you specify. Arithmetic on period is very easy and\n",
    "# intuitive, for instance, if we want to find out 5 months after January 2016, we simply plus 5\n",
    "pd.Period('1/2016') + 5"
   ]
  },
  {
   "cell_type": "code",
   "execution_count": 9,
   "id": "1a8440d3",
   "metadata": {},
   "outputs": [
    {
     "data": {
      "text/plain": [
       "Period('2016-03-03', 'D')"
      ]
     },
     "execution_count": 9,
     "metadata": {},
     "output_type": "execute_result"
    }
   ],
   "source": [
    "# From the result, you can see we get June 2016. If we want to find out two days before March 5th 2016, we\n",
    "# simply subtract 2\n",
    "pd.Period('3/5/2016') - 2"
   ]
  },
  {
   "cell_type": "markdown",
   "id": "932ccf2a",
   "metadata": {},
   "source": [
    "The key here is that the period object encapsulates the granularity for arithmetic"
   ]
  },
  {
   "cell_type": "markdown",
   "id": "da6ed98f",
   "metadata": {},
   "source": [
    "### DatetimeIndex and PeriodIndex"
   ]
  },
  {
   "cell_type": "code",
   "execution_count": 10,
   "id": "ce6946e1",
   "metadata": {},
   "outputs": [
    {
     "data": {
      "text/plain": [
       "2016-09-01    a\n",
       "2016-09-02    b\n",
       "2016-09-03    c\n",
       "dtype: object"
      ]
     },
     "execution_count": 10,
     "metadata": {},
     "output_type": "execute_result"
    }
   ],
   "source": [
    "# The index of a timestamp is DatetimeIndex. Let's look at a quick example. First, let's create our example\n",
    "# series t1, we'll use the Timestamp of September 1st, 2nd and 3rd of 2016. When we look at the series, each\n",
    "# Timestamp is the index and has a value associated with it, in this case, a, b and c.\n",
    "\n",
    "t1 = pd.Series(list('abc'), [pd.Timestamp('2016-09-01'), pd.Timestamp('2016-09-02'), \n",
    "                             pd.Timestamp('2016-09-03')])\n",
    "t1"
   ]
  },
  {
   "cell_type": "code",
   "execution_count": 11,
   "id": "65b803ca",
   "metadata": {},
   "outputs": [
    {
     "data": {
      "text/plain": [
       "DatetimeIndex(['2016-09-01', '2016-09-02', '2016-09-03'], dtype='datetime64[ns]', freq=None)"
      ]
     },
     "execution_count": 11,
     "metadata": {},
     "output_type": "execute_result"
    }
   ],
   "source": [
    "# 这里的dtype指的是data values的数据类型，而并非index的数据类型\n",
    "t1.index"
   ]
  },
  {
   "cell_type": "code",
   "execution_count": 12,
   "id": "ecbb7594",
   "metadata": {},
   "outputs": [
    {
     "data": {
      "text/plain": [
       "pandas.core.indexes.datetimes.DatetimeIndex"
      ]
     },
     "execution_count": 12,
     "metadata": {},
     "output_type": "execute_result"
    }
   ],
   "source": [
    "# Looking at the type of our series index, we see that it's DatetimeIndex.\n",
    "type(t1.index)"
   ]
  },
  {
   "cell_type": "code",
   "execution_count": 13,
   "id": "7c1f9850",
   "metadata": {},
   "outputs": [
    {
     "data": {
      "text/plain": [
       "2016-09    d\n",
       "2016-10    e\n",
       "2016-11    f\n",
       "Freq: M, dtype: object"
      ]
     },
     "execution_count": 13,
     "metadata": {},
     "output_type": "execute_result"
    }
   ],
   "source": [
    "# Similarly, we can create a period-based index as well. \n",
    "t2 = pd.Series(list(\"def\"), [pd.Period(\"2016-09\"), pd.Period(\"10/2016\"), pd.Period(\"2016-11\")])\n",
    "t2"
   ]
  },
  {
   "cell_type": "code",
   "execution_count": 14,
   "id": "0dea1f4c",
   "metadata": {},
   "outputs": [
    {
     "data": {
      "text/plain": [
       "pandas.core.indexes.period.PeriodIndex"
      ]
     },
     "execution_count": 14,
     "metadata": {},
     "output_type": "execute_result"
    }
   ],
   "source": [
    "type(t2.index)"
   ]
  },
  {
   "cell_type": "markdown",
   "id": "7faa23e3",
   "metadata": {},
   "source": [
    "### Converting to Datetime"
   ]
  },
  {
   "cell_type": "code",
   "execution_count": 15,
   "id": "0b3e0c57",
   "metadata": {
    "scrolled": true
   },
   "outputs": [
    {
     "data": {
      "text/html": [
       "<div>\n",
       "<style scoped>\n",
       "    .dataframe tbody tr th:only-of-type {\n",
       "        vertical-align: middle;\n",
       "    }\n",
       "\n",
       "    .dataframe tbody tr th {\n",
       "        vertical-align: top;\n",
       "    }\n",
       "\n",
       "    .dataframe thead th {\n",
       "        text-align: right;\n",
       "    }\n",
       "</style>\n",
       "<table border=\"1\" class=\"dataframe\">\n",
       "  <thead>\n",
       "    <tr style=\"text-align: right;\">\n",
       "      <th></th>\n",
       "      <th>a</th>\n",
       "      <th>b</th>\n",
       "    </tr>\n",
       "  </thead>\n",
       "  <tbody>\n",
       "    <tr>\n",
       "      <th>2 June 2013</th>\n",
       "      <td>97</td>\n",
       "      <td>82</td>\n",
       "    </tr>\n",
       "    <tr>\n",
       "      <th>Aug 29, 2014</th>\n",
       "      <td>29</td>\n",
       "      <td>49</td>\n",
       "    </tr>\n",
       "    <tr>\n",
       "      <th>2015-06-26</th>\n",
       "      <td>17</td>\n",
       "      <td>11</td>\n",
       "    </tr>\n",
       "    <tr>\n",
       "      <th>7/12/16</th>\n",
       "      <td>65</td>\n",
       "      <td>33</td>\n",
       "    </tr>\n",
       "  </tbody>\n",
       "</table>\n",
       "</div>"
      ],
      "text/plain": [
       "               a   b\n",
       "2 June 2013   97  82\n",
       "Aug 29, 2014  29  49\n",
       "2015-06-26    17  11\n",
       "7/12/16       65  33"
      ]
     },
     "execution_count": 15,
     "metadata": {},
     "output_type": "execute_result"
    }
   ],
   "source": [
    "# Now, let's look into how to convert to Datetime. Suppose we have a list of dates as strings and we want to\n",
    "# create a new dataframe\n",
    "\n",
    "# I'm going to try a bunch of different date formats\n",
    "d1 = [\"2 June 2013\", \"Aug 29, 2014\", \"2015-06-26\", \"7/12/16\"]\n",
    "\n",
    "# And just some random data\n",
    "t3 = pd.DataFrame(np.random.randint(10, 100, (4, 2)), index = d1, columns = list(\"ab\"))\n",
    "t3"
   ]
  },
  {
   "cell_type": "code",
   "execution_count": 16,
   "id": "28344c7b",
   "metadata": {},
   "outputs": [
    {
     "data": {
      "text/html": [
       "<div>\n",
       "<style scoped>\n",
       "    .dataframe tbody tr th:only-of-type {\n",
       "        vertical-align: middle;\n",
       "    }\n",
       "\n",
       "    .dataframe tbody tr th {\n",
       "        vertical-align: top;\n",
       "    }\n",
       "\n",
       "    .dataframe thead th {\n",
       "        text-align: right;\n",
       "    }\n",
       "</style>\n",
       "<table border=\"1\" class=\"dataframe\">\n",
       "  <thead>\n",
       "    <tr style=\"text-align: right;\">\n",
       "      <th></th>\n",
       "      <th>a</th>\n",
       "      <th>b</th>\n",
       "    </tr>\n",
       "  </thead>\n",
       "  <tbody>\n",
       "    <tr>\n",
       "      <th>2013-06-02</th>\n",
       "      <td>97</td>\n",
       "      <td>82</td>\n",
       "    </tr>\n",
       "    <tr>\n",
       "      <th>2014-08-29</th>\n",
       "      <td>29</td>\n",
       "      <td>49</td>\n",
       "    </tr>\n",
       "    <tr>\n",
       "      <th>2015-06-26</th>\n",
       "      <td>17</td>\n",
       "      <td>11</td>\n",
       "    </tr>\n",
       "    <tr>\n",
       "      <th>2016-07-12</th>\n",
       "      <td>65</td>\n",
       "      <td>33</td>\n",
       "    </tr>\n",
       "  </tbody>\n",
       "</table>\n",
       "</div>"
      ],
      "text/plain": [
       "             a   b\n",
       "2013-06-02  97  82\n",
       "2014-08-29  29  49\n",
       "2015-06-26  17  11\n",
       "2016-07-12  65  33"
      ]
     },
     "execution_count": 16,
     "metadata": {},
     "output_type": "execute_result"
    }
   ],
   "source": [
    "# Using pandas to_datetime, pandas will try to convert these to Datetime and put them in a standard format.\n",
    "\n",
    "t3.index = pd.to_datetime(t3.index)\n",
    "t3"
   ]
  },
  {
   "cell_type": "code",
   "execution_count": 17,
   "id": "ac9dc53e",
   "metadata": {},
   "outputs": [
    {
     "name": "stdout",
     "output_type": "stream",
     "text": [
      "['2 June 2013', 'Aug 29, 2014', '2015-06-26', '7/12/16']\n"
     ]
    },
    {
     "data": {
      "text/plain": [
       "DatetimeIndex(['2013-06-02', '2014-08-29', '2015-06-26', '2016-12-07'], dtype='datetime64[ns]', freq=None)"
      ]
     },
     "execution_count": 17,
     "metadata": {},
     "output_type": "execute_result"
    }
   ],
   "source": [
    "# to_datetime可以改变它所解析的数据顺序，例如欧洲的规则是日期/月份/年份，则使用\"dayfirst = True\"。\n",
    "# 这里我们发现，d1中前两个数据的月份以字母明确表示，所以不会变化。第三项实际上也是明确表示，也不会变化。\n",
    "# 而最后一项7/12/16中，在欧洲则表示2016年12月7日，所以dayfirst = True会改变它的顺序。\n",
    "print(d1)\n",
    "pd.to_datetime(d1, dayfirst = True)"
   ]
  },
  {
   "cell_type": "code",
   "execution_count": 18,
   "id": "5e9c4636",
   "metadata": {},
   "outputs": [
    {
     "data": {
      "text/plain": [
       "Timestamp('2012-07-04 00:00:00')"
      ]
     },
     "execution_count": 18,
     "metadata": {},
     "output_type": "execute_result"
    }
   ],
   "source": [
    "# 4.7.12也是一个模糊的表达，也可以被dayfirst = True改变。\n",
    "\n",
    "pd.to_datetime(\"4.7.12\", dayfirst = True)"
   ]
  },
  {
   "cell_type": "markdown",
   "id": "97db3980",
   "metadata": {},
   "source": [
    "### Timedelta"
   ]
  },
  {
   "cell_type": "code",
   "execution_count": 19,
   "id": "e0fbd9e6",
   "metadata": {},
   "outputs": [
    {
     "data": {
      "text/plain": [
       "Timedelta('2 days 00:00:00')"
      ]
     },
     "execution_count": 19,
     "metadata": {},
     "output_type": "execute_result"
    }
   ],
   "source": [
    "# Timedeltas are differences in times. This is not the same as a a period, but conceptually similar. For\n",
    "# instance, if we want to take the difference between September 3rd and  September 1st, we get a Timedelta of\n",
    "# two days.\n",
    "\n",
    "pd.Timestamp('9/3/2016') - pd.Timestamp(\"9/1/2016\")"
   ]
  },
  {
   "cell_type": "code",
   "execution_count": 20,
   "id": "b8ce33e3",
   "metadata": {},
   "outputs": [
    {
     "data": {
      "text/plain": [
       "Timestamp('2016-09-14 11:10:00')"
      ]
     },
     "execution_count": 20,
     "metadata": {},
     "output_type": "execute_result"
    }
   ],
   "source": [
    "# We can also do something like find what the date and time is for 12 days and three hours past September 2nd,\n",
    "# at 8:10 AM.\n",
    "\n",
    "pd.Timestamp(\"2016-9-2 8:10\") + pd.Timedelta(\"12D 3H\")"
   ]
  },
  {
   "cell_type": "markdown",
   "id": "7f724fba",
   "metadata": {},
   "source": [
    "### Offset"
   ]
  },
  {
   "cell_type": "code",
   "execution_count": 21,
   "id": "e9074b2a",
   "metadata": {},
   "outputs": [
    {
     "data": {
      "text/plain": [
       "6"
      ]
     },
     "execution_count": 21,
     "metadata": {},
     "output_type": "execute_result"
    }
   ],
   "source": [
    "# Offset is similar to timedelta, but it follows specific calendar duration rules. Offset allows flexibility\n",
    "# in terms of types of time intervals. Besides hour, day, week, month, etc， it also has business day, end of\n",
    "# month, semi month begin etc\n",
    "\n",
    "# Let's create a timestamp, and see what day is that\n",
    "# 注意，isoweekday()返回的1-7代表了周一到周日，weekday()返回的0-6代表了周一到周日\n",
    "pd.Timestamp(\"9/4/2016\").weekday()"
   ]
  },
  {
   "cell_type": "code",
   "execution_count": 22,
   "id": "cfa6344f",
   "metadata": {},
   "outputs": [
    {
     "data": {
      "text/plain": [
       "Timestamp('2016-09-11 00:00:00')"
      ]
     },
     "execution_count": 22,
     "metadata": {},
     "output_type": "execute_result"
    }
   ],
   "source": [
    "# Now we can now add the timestamp with a week ahead\n",
    "pd.Timestamp(\"9/4/2016\") + pd.offsets.Week()"
   ]
  },
  {
   "cell_type": "code",
   "execution_count": 23,
   "id": "11425fe2",
   "metadata": {},
   "outputs": [
    {
     "data": {
      "text/plain": [
       "True"
      ]
     },
     "execution_count": 23,
     "metadata": {},
     "output_type": "execute_result"
    }
   ],
   "source": [
    "pd.Timestamp(\"9/4/2016\") + pd.offsets.Week() == pd.Timestamp(\"9/4/2016\") + pd.Timedelta(\"1W\")"
   ]
  },
  {
   "cell_type": "code",
   "execution_count": 24,
   "id": "e414ce40",
   "metadata": {},
   "outputs": [
    {
     "data": {
      "text/plain": [
       "Timestamp('2016-09-30 00:00:00')"
      ]
     },
     "execution_count": 24,
     "metadata": {},
     "output_type": "execute_result"
    }
   ],
   "source": [
    "# Now let's try to do the month end, then we would have the last day of September\n",
    "pd.Timestamp(\"9/4/2016\") + pd.offsets.MonthEnd()"
   ]
  },
  {
   "cell_type": "markdown",
   "id": "9c8018f5",
   "metadata": {},
   "source": [
    "### Working with Dates in a DataFrame\n",
    "2\n",
    "假设我们需要在接下来每两周的周日做一种实验，从2016年10月开始做9次。使用date_range，我们可以建立这个DatatimeIndex。在data_range中，我们需要注明start date或者end date。如果没有被注明，则默认为start date。并且我们需要指定周期数作为频率。这里我们输入\"2W-SUN\"，这代表每两周的周日。"
   ]
  },
  {
   "cell_type": "code",
   "execution_count": 25,
   "id": "c4dd975e",
   "metadata": {},
   "outputs": [
    {
     "data": {
      "text/plain": [
       "DatetimeIndex(['2016-10-02', '2016-10-16', '2016-10-30', '2016-11-13',\n",
       "               '2016-11-27', '2016-12-11', '2016-12-25', '2017-01-08',\n",
       "               '2017-01-22'],\n",
       "              dtype='datetime64[ns]', freq='2W-SUN')"
      ]
     },
     "execution_count": 25,
     "metadata": {},
     "output_type": "execute_result"
    }
   ],
   "source": [
    "dates = pd.date_range(start = \"10-01-2016\", periods = 9, freq = \"2W-SUN\")\n",
    "dates"
   ]
  },
  {
   "cell_type": "code",
   "execution_count": 26,
   "id": "183895d2",
   "metadata": {},
   "outputs": [
    {
     "data": {
      "text/plain": [
       "DatetimeIndex(['2016-10-03', '2016-10-04', '2016-10-05', '2016-10-06',\n",
       "               '2016-10-07', '2016-10-10', '2016-10-11', '2016-10-12',\n",
       "               '2016-10-13'],\n",
       "              dtype='datetime64[ns]', freq='B')"
      ]
     },
     "execution_count": 26,
     "metadata": {},
     "output_type": "execute_result"
    }
   ],
   "source": [
    "# There are many other frequencies that you can specify. For example, you can do business day\n",
    "pd.date_range(\"10-01-2016\", periods = 9, freq = \"B\")"
   ]
  },
  {
   "cell_type": "code",
   "execution_count": 27,
   "id": "3573047c",
   "metadata": {
    "scrolled": true
   },
   "outputs": [
    {
     "data": {
      "text/plain": [
       "DatetimeIndex(['2016-06-01', '2016-09-01', '2016-12-01', '2017-03-01',\n",
       "               '2017-06-01', '2017-09-01', '2017-12-01', '2018-03-01',\n",
       "               '2018-06-01', '2018-09-01', '2018-12-01', '2019-03-01'],\n",
       "              dtype='datetime64[ns]', freq='QS-JUN')"
      ]
     },
     "execution_count": 27,
     "metadata": {},
     "output_type": "execute_result"
    }
   ],
   "source": [
    "# Or you can do quarterly, with the quarter start in June\n",
    "# 这意味着虽然我们从2016年4月1日开始，但\"QS-JUN\"规定了从6月开始计数，QS代表每个季度做一次\n",
    "pd.date_range(\"04-01-2016\", periods = 12, freq = \"QS-JUN\")"
   ]
  },
  {
   "cell_type": "code",
   "execution_count": 28,
   "id": "b37667f9",
   "metadata": {},
   "outputs": [
    {
     "data": {
      "text/plain": [
       "DatetimeIndex(['2016-10-02', '2016-10-16', '2016-10-30', '2016-11-13',\n",
       "               '2016-11-27', '2016-12-11', '2016-12-25', '2017-01-08',\n",
       "               '2017-01-22'],\n",
       "              dtype='datetime64[ns]', freq='2W-SUN')"
      ]
     },
     "execution_count": 28,
     "metadata": {},
     "output_type": "execute_result"
    }
   ],
   "source": [
    "# Now, let's go back to our weekly on Sunday example and create a DataFrame using these dates, and some random\n",
    "# data, and see what we can do with it.\n",
    "\n",
    "dates = pd.date_range(\"10-01-2016\", periods = 9, freq = \"2W-SUN\")\n",
    "dates"
   ]
  },
  {
   "cell_type": "code",
   "execution_count": 29,
   "id": "34e4eb79",
   "metadata": {},
   "outputs": [
    {
     "data": {
      "text/html": [
       "<div>\n",
       "<style scoped>\n",
       "    .dataframe tbody tr th:only-of-type {\n",
       "        vertical-align: middle;\n",
       "    }\n",
       "\n",
       "    .dataframe tbody tr th {\n",
       "        vertical-align: top;\n",
       "    }\n",
       "\n",
       "    .dataframe thead th {\n",
       "        text-align: right;\n",
       "    }\n",
       "</style>\n",
       "<table border=\"1\" class=\"dataframe\">\n",
       "  <thead>\n",
       "    <tr style=\"text-align: right;\">\n",
       "      <th></th>\n",
       "      <th>Count1</th>\n",
       "      <th>Count2</th>\n",
       "    </tr>\n",
       "  </thead>\n",
       "  <tbody>\n",
       "    <tr>\n",
       "      <th>2016-10-02</th>\n",
       "      <td>98</td>\n",
       "      <td>121</td>\n",
       "    </tr>\n",
       "    <tr>\n",
       "      <th>2016-10-16</th>\n",
       "      <td>100</td>\n",
       "      <td>119</td>\n",
       "    </tr>\n",
       "    <tr>\n",
       "      <th>2016-10-30</th>\n",
       "      <td>101</td>\n",
       "      <td>121</td>\n",
       "    </tr>\n",
       "    <tr>\n",
       "      <th>2016-11-13</th>\n",
       "      <td>100</td>\n",
       "      <td>117</td>\n",
       "    </tr>\n",
       "    <tr>\n",
       "      <th>2016-11-27</th>\n",
       "      <td>108</td>\n",
       "      <td>123</td>\n",
       "    </tr>\n",
       "    <tr>\n",
       "      <th>2016-12-11</th>\n",
       "      <td>116</td>\n",
       "      <td>115</td>\n",
       "    </tr>\n",
       "    <tr>\n",
       "      <th>2016-12-25</th>\n",
       "      <td>125</td>\n",
       "      <td>119</td>\n",
       "    </tr>\n",
       "    <tr>\n",
       "      <th>2017-01-08</th>\n",
       "      <td>126</td>\n",
       "      <td>119</td>\n",
       "    </tr>\n",
       "    <tr>\n",
       "      <th>2017-01-22</th>\n",
       "      <td>129</td>\n",
       "      <td>126</td>\n",
       "    </tr>\n",
       "  </tbody>\n",
       "</table>\n",
       "</div>"
      ],
      "text/plain": [
       "            Count1  Count2\n",
       "2016-10-02      98     121\n",
       "2016-10-16     100     119\n",
       "2016-10-30     101     121\n",
       "2016-11-13     100     117\n",
       "2016-11-27     108     123\n",
       "2016-12-11     116     115\n",
       "2016-12-25     125     119\n",
       "2017-01-08     126     119\n",
       "2017-01-22     129     126"
      ]
     },
     "execution_count": 29,
     "metadata": {},
     "output_type": "execute_result"
    }
   ],
   "source": [
    "df = pd.DataFrame({\"Count1\": 100 + np.random.randint(-5, 10, 9).cumsum(),\n",
    "                   \"Count2\": 120 + np.random.randint(-5, 10, 9)}, index = dates)\n",
    "df"
   ]
  },
  {
   "cell_type": "markdown",
   "id": "fe526d50",
   "metadata": {},
   "source": [
    "———————————————————————"
   ]
  },
  {
   "cell_type": "code",
   "execution_count": 30,
   "id": "7def54ac",
   "metadata": {},
   "outputs": [
    {
     "name": "stdout",
     "output_type": "stream",
     "text": [
      "[[1 2 3]\n",
      " [4 5 6]]\n"
     ]
    },
    {
     "data": {
      "text/plain": [
       "array([ 1,  3,  6, 10, 15, 21], dtype=int32)"
      ]
     },
     "execution_count": 30,
     "metadata": {},
     "output_type": "execute_result"
    }
   ],
   "source": [
    "# cumsum(array, axis=None, dtype=None, out=None) 表示了按xis的方向累加，得到新的array，\n",
    "# axis = 0代表按行累加，axis = 1代表按列累加，不输入则代表把numpy数组当成一个一维数组，例如：\n",
    "\n",
    "kkk = np.array([[1, 2, 3], [4, 5, 6]])\n",
    "print(kkk)\n",
    "np.cumsum(kkk)\n",
    "\n",
    "# 此处没有输入axis的值，则默认把kkk当成一个一维数组，输出结果1=1，3=1+2，6=1+2+3, 10=1+2+3+4等等"
   ]
  },
  {
   "cell_type": "code",
   "execution_count": 31,
   "id": "ce37683c",
   "metadata": {},
   "outputs": [
    {
     "name": "stdout",
     "output_type": "stream",
     "text": [
      "[[1 2 3]\n",
      " [4 5 6]]\n"
     ]
    },
    {
     "data": {
      "text/plain": [
       "array([[1, 2, 3],\n",
       "       [5, 7, 9]], dtype=int32)"
      ]
     },
     "execution_count": 31,
     "metadata": {},
     "output_type": "execute_result"
    }
   ],
   "source": [
    "kkk = np.array([[1, 2, 3], [4, 5, 6]])\n",
    "print(kkk)\n",
    "np.cumsum(kkk, axis = 0)\n",
    "\n",
    "# 此处axis=0则按行累加，输出结果中第一行不变，第二行5=1+4，7=2+5，9=3+6"
   ]
  },
  {
   "cell_type": "code",
   "execution_count": 32,
   "id": "16ddb1fd",
   "metadata": {},
   "outputs": [
    {
     "name": "stdout",
     "output_type": "stream",
     "text": [
      "[[1 2 3]\n",
      " [4 5 6]]\n"
     ]
    },
    {
     "data": {
      "text/plain": [
       "array([[ 1,  3,  6],\n",
       "       [ 4,  9, 15]], dtype=int32)"
      ]
     },
     "execution_count": 32,
     "metadata": {},
     "output_type": "execute_result"
    }
   ],
   "source": [
    "kkk = np.array([[1, 2, 3], [4, 5, 6]])\n",
    "print(kkk)\n",
    "np.cumsum(kkk, axis = 1)\n",
    "\n",
    "# 同理此处按列累加，第一列结果不变，第二列3=1+2，9=4+5，第三列6=1+2+3，15=4+5+6"
   ]
  },
  {
   "cell_type": "code",
   "execution_count": 33,
   "id": "0a9a8a6a",
   "metadata": {},
   "outputs": [
    {
     "data": {
      "text/plain": [
       "array([[ 1,  3,  6],\n",
       "       [ 4,  9, 15]], dtype=int32)"
      ]
     },
     "execution_count": 33,
     "metadata": {},
     "output_type": "execute_result"
    }
   ],
   "source": [
    "# cumsum()也可以作为方法，例如:\n",
    "kkk = np.array([[1, 2, 3], [4, 5, 6]])\n",
    "kkk.cumsum(axis = 1)\n",
    "\n",
    "# 但注意.cumsum()不会直接改变原变量，则需要kkk = kkk.cumsum(axis = 1)"
   ]
  },
  {
   "cell_type": "markdown",
   "id": "78472760",
   "metadata": {},
   "source": [
    "———————————————————————"
   ]
  },
  {
   "cell_type": "code",
   "execution_count": 34,
   "id": "cf2699be",
   "metadata": {},
   "outputs": [
    {
     "data": {
      "text/html": [
       "<div>\n",
       "<style scoped>\n",
       "    .dataframe tbody tr th:only-of-type {\n",
       "        vertical-align: middle;\n",
       "    }\n",
       "\n",
       "    .dataframe tbody tr th {\n",
       "        vertical-align: top;\n",
       "    }\n",
       "\n",
       "    .dataframe thead th {\n",
       "        text-align: right;\n",
       "    }\n",
       "</style>\n",
       "<table border=\"1\" class=\"dataframe\">\n",
       "  <thead>\n",
       "    <tr style=\"text-align: right;\">\n",
       "      <th></th>\n",
       "      <th>Count1</th>\n",
       "      <th>Count2</th>\n",
       "    </tr>\n",
       "  </thead>\n",
       "  <tbody>\n",
       "    <tr>\n",
       "      <th>2016-10-02</th>\n",
       "      <td>106</td>\n",
       "      <td>126</td>\n",
       "    </tr>\n",
       "    <tr>\n",
       "      <th>2016-10-16</th>\n",
       "      <td>108</td>\n",
       "      <td>115</td>\n",
       "    </tr>\n",
       "    <tr>\n",
       "      <th>2016-10-30</th>\n",
       "      <td>104</td>\n",
       "      <td>118</td>\n",
       "    </tr>\n",
       "    <tr>\n",
       "      <th>2016-11-13</th>\n",
       "      <td>102</td>\n",
       "      <td>120</td>\n",
       "    </tr>\n",
       "    <tr>\n",
       "      <th>2016-11-27</th>\n",
       "      <td>110</td>\n",
       "      <td>122</td>\n",
       "    </tr>\n",
       "    <tr>\n",
       "      <th>2016-12-11</th>\n",
       "      <td>112</td>\n",
       "      <td>118</td>\n",
       "    </tr>\n",
       "    <tr>\n",
       "      <th>2016-12-25</th>\n",
       "      <td>117</td>\n",
       "      <td>115</td>\n",
       "    </tr>\n",
       "    <tr>\n",
       "      <th>2017-01-08</th>\n",
       "      <td>125</td>\n",
       "      <td>121</td>\n",
       "    </tr>\n",
       "    <tr>\n",
       "      <th>2017-01-22</th>\n",
       "      <td>133</td>\n",
       "      <td>117</td>\n",
       "    </tr>\n",
       "  </tbody>\n",
       "</table>\n",
       "</div>"
      ],
      "text/plain": [
       "            Count1  Count2\n",
       "2016-10-02     106     126\n",
       "2016-10-16     108     115\n",
       "2016-10-30     104     118\n",
       "2016-11-13     102     120\n",
       "2016-11-27     110     122\n",
       "2016-12-11     112     118\n",
       "2016-12-25     117     115\n",
       "2017-01-08     125     121\n",
       "2017-01-22     133     117"
      ]
     },
     "execution_count": 34,
     "metadata": {},
     "output_type": "execute_result"
    }
   ],
   "source": [
    "# 接着上面的例子\n",
    "dates = pd.date_range(\"10-01-2016\", periods = 9, freq = \"2W-SUN\")\n",
    "df = pd.DataFrame({\"Count1\": 100 + np.random.randint(-5, 10, 9).cumsum(),\n",
    "                   \"Count2\": 120 + np.random.randint(-5, 10, 9)}, index = dates)\n",
    "df"
   ]
  },
  {
   "cell_type": "code",
   "execution_count": 35,
   "id": "15c11ea5",
   "metadata": {
    "scrolled": true
   },
   "outputs": [
    {
     "data": {
      "text/plain": [
       "Index(['Sunday', 'Sunday', 'Sunday', 'Sunday', 'Sunday', 'Sunday', 'Sunday',\n",
       "       'Sunday', 'Sunday'],\n",
       "      dtype='object')"
      ]
     },
     "execution_count": 35,
     "metadata": {},
     "output_type": "execute_result"
    }
   ],
   "source": [
    "# 首先我们可以根据日期求出它具体是星期几。例如这里的index中的所有日期都是周日，这与我们设定的频率吻合。\n",
    "df.index.day_name()"
   ]
  },
  {
   "cell_type": "code",
   "execution_count": 36,
   "id": "754055e4",
   "metadata": {},
   "outputs": [
    {
     "name": "stdout",
     "output_type": "stream",
     "text": [
      "7\n",
      "7\n",
      "7\n",
      "7\n",
      "7\n",
      "7\n",
      "7\n",
      "7\n",
      "7\n"
     ]
    }
   ],
   "source": [
    "# 或者：\n",
    "for i in df.index:\n",
    "    print(i.isoweekday())"
   ]
  },
  {
   "cell_type": "code",
   "execution_count": 37,
   "id": "64badc87",
   "metadata": {},
   "outputs": [
    {
     "data": {
      "text/html": [
       "<div>\n",
       "<style scoped>\n",
       "    .dataframe tbody tr th:only-of-type {\n",
       "        vertical-align: middle;\n",
       "    }\n",
       "\n",
       "    .dataframe tbody tr th {\n",
       "        vertical-align: top;\n",
       "    }\n",
       "\n",
       "    .dataframe thead th {\n",
       "        text-align: right;\n",
       "    }\n",
       "</style>\n",
       "<table border=\"1\" class=\"dataframe\">\n",
       "  <thead>\n",
       "    <tr style=\"text-align: right;\">\n",
       "      <th></th>\n",
       "      <th>Count1</th>\n",
       "      <th>Count2</th>\n",
       "    </tr>\n",
       "  </thead>\n",
       "  <tbody>\n",
       "    <tr>\n",
       "      <th>2016-10-02</th>\n",
       "      <td>NaN</td>\n",
       "      <td>NaN</td>\n",
       "    </tr>\n",
       "    <tr>\n",
       "      <th>2016-10-16</th>\n",
       "      <td>2.0</td>\n",
       "      <td>-11.0</td>\n",
       "    </tr>\n",
       "    <tr>\n",
       "      <th>2016-10-30</th>\n",
       "      <td>-4.0</td>\n",
       "      <td>3.0</td>\n",
       "    </tr>\n",
       "    <tr>\n",
       "      <th>2016-11-13</th>\n",
       "      <td>-2.0</td>\n",
       "      <td>2.0</td>\n",
       "    </tr>\n",
       "    <tr>\n",
       "      <th>2016-11-27</th>\n",
       "      <td>8.0</td>\n",
       "      <td>2.0</td>\n",
       "    </tr>\n",
       "    <tr>\n",
       "      <th>2016-12-11</th>\n",
       "      <td>2.0</td>\n",
       "      <td>-4.0</td>\n",
       "    </tr>\n",
       "    <tr>\n",
       "      <th>2016-12-25</th>\n",
       "      <td>5.0</td>\n",
       "      <td>-3.0</td>\n",
       "    </tr>\n",
       "    <tr>\n",
       "      <th>2017-01-08</th>\n",
       "      <td>8.0</td>\n",
       "      <td>6.0</td>\n",
       "    </tr>\n",
       "    <tr>\n",
       "      <th>2017-01-22</th>\n",
       "      <td>8.0</td>\n",
       "      <td>-4.0</td>\n",
       "    </tr>\n",
       "  </tbody>\n",
       "</table>\n",
       "</div>"
      ],
      "text/plain": [
       "            Count1  Count2\n",
       "2016-10-02     NaN     NaN\n",
       "2016-10-16     2.0   -11.0\n",
       "2016-10-30    -4.0     3.0\n",
       "2016-11-13    -2.0     2.0\n",
       "2016-11-27     8.0     2.0\n",
       "2016-12-11     2.0    -4.0\n",
       "2016-12-25     5.0    -3.0\n",
       "2017-01-08     8.0     6.0\n",
       "2017-01-22     8.0    -4.0"
      ]
     },
     "execution_count": 37,
     "metadata": {},
     "output_type": "execute_result"
    }
   ],
   "source": [
    "# We can also use diff() to find the difference between each date's value.\n",
    "df.diff()"
   ]
  },
  {
   "cell_type": "code",
   "execution_count": 38,
   "id": "70d5ea46",
   "metadata": {
    "scrolled": true
   },
   "outputs": [
    {
     "data": {
      "text/html": [
       "<div>\n",
       "<style scoped>\n",
       "    .dataframe tbody tr th:only-of-type {\n",
       "        vertical-align: middle;\n",
       "    }\n",
       "\n",
       "    .dataframe tbody tr th {\n",
       "        vertical-align: top;\n",
       "    }\n",
       "\n",
       "    .dataframe thead th {\n",
       "        text-align: right;\n",
       "    }\n",
       "</style>\n",
       "<table border=\"1\" class=\"dataframe\">\n",
       "  <thead>\n",
       "    <tr style=\"text-align: right;\">\n",
       "      <th></th>\n",
       "      <th>Count1</th>\n",
       "      <th>Count2</th>\n",
       "    </tr>\n",
       "  </thead>\n",
       "  <tbody>\n",
       "    <tr>\n",
       "      <th>2016-10-31</th>\n",
       "      <td>106.0</td>\n",
       "      <td>119.666667</td>\n",
       "    </tr>\n",
       "    <tr>\n",
       "      <th>2016-11-30</th>\n",
       "      <td>106.0</td>\n",
       "      <td>121.000000</td>\n",
       "    </tr>\n",
       "    <tr>\n",
       "      <th>2016-12-31</th>\n",
       "      <td>114.5</td>\n",
       "      <td>116.500000</td>\n",
       "    </tr>\n",
       "    <tr>\n",
       "      <th>2017-01-31</th>\n",
       "      <td>129.0</td>\n",
       "      <td>119.000000</td>\n",
       "    </tr>\n",
       "  </tbody>\n",
       "</table>\n",
       "</div>"
      ],
      "text/plain": [
       "            Count1      Count2\n",
       "2016-10-31   106.0  119.666667\n",
       "2016-11-30   106.0  121.000000\n",
       "2016-12-31   114.5  116.500000\n",
       "2017-01-31   129.0  119.000000"
      ]
     },
     "execution_count": 38,
     "metadata": {},
     "output_type": "execute_result"
    }
   ],
   "source": [
    "# 假设我们想知道我们的DataFrame中，每个月的mean count是多少。我们可以使用resample。从高频率转为低频率\n",
    "# 称作downsampling\n",
    "\n",
    "df.resample(\"M\").mean()"
   ]
  },
  {
   "cell_type": "markdown",
   "id": "e4b15e7d",
   "metadata": {},
   "source": [
    "### Datetime的索引和切片 (Indexing and Slicing)\n",
    "\n",
    "例如，我们可以使用partial string indexing来得出某一具体年份对应的数值。"
   ]
  },
  {
   "cell_type": "code",
   "execution_count": 39,
   "id": "8c1ea89f",
   "metadata": {},
   "outputs": [
    {
     "data": {
      "text/html": [
       "<div>\n",
       "<style scoped>\n",
       "    .dataframe tbody tr th:only-of-type {\n",
       "        vertical-align: middle;\n",
       "    }\n",
       "\n",
       "    .dataframe tbody tr th {\n",
       "        vertical-align: top;\n",
       "    }\n",
       "\n",
       "    .dataframe thead th {\n",
       "        text-align: right;\n",
       "    }\n",
       "</style>\n",
       "<table border=\"1\" class=\"dataframe\">\n",
       "  <thead>\n",
       "    <tr style=\"text-align: right;\">\n",
       "      <th></th>\n",
       "      <th>Count1</th>\n",
       "      <th>Count2</th>\n",
       "    </tr>\n",
       "  </thead>\n",
       "  <tbody>\n",
       "    <tr>\n",
       "      <th>2017-01-08</th>\n",
       "      <td>125</td>\n",
       "      <td>121</td>\n",
       "    </tr>\n",
       "    <tr>\n",
       "      <th>2017-01-22</th>\n",
       "      <td>133</td>\n",
       "      <td>117</td>\n",
       "    </tr>\n",
       "  </tbody>\n",
       "</table>\n",
       "</div>"
      ],
      "text/plain": [
       "            Count1  Count2\n",
       "2017-01-08     125     121\n",
       "2017-01-22     133     117"
      ]
     },
     "execution_count": 39,
     "metadata": {},
     "output_type": "execute_result"
    }
   ],
   "source": [
    "df.loc[\"2017\"]"
   ]
  },
  {
   "cell_type": "code",
   "execution_count": 40,
   "id": "8ffc5c93",
   "metadata": {},
   "outputs": [
    {
     "data": {
      "text/html": [
       "<div>\n",
       "<style scoped>\n",
       "    .dataframe tbody tr th:only-of-type {\n",
       "        vertical-align: middle;\n",
       "    }\n",
       "\n",
       "    .dataframe tbody tr th {\n",
       "        vertical-align: top;\n",
       "    }\n",
       "\n",
       "    .dataframe thead th {\n",
       "        text-align: right;\n",
       "    }\n",
       "</style>\n",
       "<table border=\"1\" class=\"dataframe\">\n",
       "  <thead>\n",
       "    <tr style=\"text-align: right;\">\n",
       "      <th></th>\n",
       "      <th>Count1</th>\n",
       "      <th>Count2</th>\n",
       "    </tr>\n",
       "  </thead>\n",
       "  <tbody>\n",
       "    <tr>\n",
       "      <th>2016-12-11</th>\n",
       "      <td>112</td>\n",
       "      <td>118</td>\n",
       "    </tr>\n",
       "    <tr>\n",
       "      <th>2016-12-25</th>\n",
       "      <td>117</td>\n",
       "      <td>115</td>\n",
       "    </tr>\n",
       "  </tbody>\n",
       "</table>\n",
       "</div>"
      ],
      "text/plain": [
       "            Count1  Count2\n",
       "2016-12-11     112     118\n",
       "2016-12-25     117     115"
      ]
     },
     "execution_count": 40,
     "metadata": {},
     "output_type": "execute_result"
    }
   ],
   "source": [
    "# 同理我们可以得出某一具体月份对应的数值。\n",
    "df.loc['2016-12']"
   ]
  },
  {
   "cell_type": "code",
   "execution_count": 41,
   "id": "beadbcfb",
   "metadata": {},
   "outputs": [
    {
     "data": {
      "text/html": [
       "<div>\n",
       "<style scoped>\n",
       "    .dataframe tbody tr th:only-of-type {\n",
       "        vertical-align: middle;\n",
       "    }\n",
       "\n",
       "    .dataframe tbody tr th {\n",
       "        vertical-align: top;\n",
       "    }\n",
       "\n",
       "    .dataframe thead th {\n",
       "        text-align: right;\n",
       "    }\n",
       "</style>\n",
       "<table border=\"1\" class=\"dataframe\">\n",
       "  <thead>\n",
       "    <tr style=\"text-align: right;\">\n",
       "      <th></th>\n",
       "      <th>Count1</th>\n",
       "      <th>Count2</th>\n",
       "    </tr>\n",
       "  </thead>\n",
       "  <tbody>\n",
       "    <tr>\n",
       "      <th>2016-12-11</th>\n",
       "      <td>112</td>\n",
       "      <td>118</td>\n",
       "    </tr>\n",
       "    <tr>\n",
       "      <th>2016-12-25</th>\n",
       "      <td>117</td>\n",
       "      <td>115</td>\n",
       "    </tr>\n",
       "    <tr>\n",
       "      <th>2017-01-08</th>\n",
       "      <td>125</td>\n",
       "      <td>121</td>\n",
       "    </tr>\n",
       "    <tr>\n",
       "      <th>2017-01-22</th>\n",
       "      <td>133</td>\n",
       "      <td>117</td>\n",
       "    </tr>\n",
       "  </tbody>\n",
       "</table>\n",
       "</div>"
      ],
      "text/plain": [
       "            Count1  Count2\n",
       "2016-12-11     112     118\n",
       "2016-12-25     117     115\n",
       "2017-01-08     125     121\n",
       "2017-01-22     133     117"
      ]
     },
     "execution_count": 41,
     "metadata": {},
     "output_type": "execute_result"
    }
   ],
   "source": [
    "# 我们还可以在range of dates上作切片。例如，我们只想要从2016年12月以后的数据。\n",
    "df.loc[\"2016-12-11\":]"
   ]
  }
 ],
 "metadata": {
  "kernelspec": {
   "display_name": "Python 3 (ipykernel)",
   "language": "python",
   "name": "python3"
  },
  "language_info": {
   "codemirror_mode": {
    "name": "ipython",
    "version": 3
   },
   "file_extension": ".py",
   "mimetype": "text/x-python",
   "name": "python",
   "nbconvert_exporter": "python",
   "pygments_lexer": "ipython3",
   "version": "3.9.9"
  },
  "latex_envs": {
   "LaTeX_envs_menu_present": true,
   "autoclose": false,
   "autocomplete": true,
   "bibliofile": "biblio.bib",
   "cite_by": "apalike",
   "current_citInitial": 1,
   "eqLabelWithNumbers": true,
   "eqNumInitial": 1,
   "hotkeys": {
    "equation": "Ctrl-E",
    "itemize": "Ctrl-I"
   },
   "labels_anchors": false,
   "latex_user_defs": false,
   "report_style_numbering": false,
   "user_envs_cfg": false
  },
  "toc": {
   "base_numbering": 1,
   "nav_menu": {},
   "number_sections": true,
   "sideBar": true,
   "skip_h1_title": false,
   "title_cell": "Table of Contents",
   "title_sidebar": "Contents",
   "toc_cell": false,
   "toc_position": {},
   "toc_section_display": true,
   "toc_window_display": false
  },
  "varInspector": {
   "cols": {
    "lenName": 16,
    "lenType": 16,
    "lenVar": 40
   },
   "kernels_config": {
    "python": {
     "delete_cmd_postfix": "",
     "delete_cmd_prefix": "del ",
     "library": "var_list.py",
     "varRefreshCmd": "print(var_dic_list())"
    },
    "r": {
     "delete_cmd_postfix": ") ",
     "delete_cmd_prefix": "rm(",
     "library": "var_list.r",
     "varRefreshCmd": "cat(var_dic_list()) "
    }
   },
   "types_to_exclude": [
    "module",
    "function",
    "builtin_function_or_method",
    "instance",
    "_Feature"
   ],
   "window_display": false
  }
 },
 "nbformat": 4,
 "nbformat_minor": 5
}
