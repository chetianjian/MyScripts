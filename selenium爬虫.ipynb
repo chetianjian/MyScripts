{
 "cells": [
  {
   "cell_type": "code",
   "execution_count": 1,
   "id": "45b12318",
   "metadata": {
    "ExecuteTime": {
     "end_time": "2022-09-25T11:33:00.348858Z",
     "start_time": "2022-09-25T11:33:00.239287Z"
    }
   },
   "outputs": [],
   "source": [
    "from selenium import webdriver\n",
    "from selenium.webdriver.common.by import By\n",
    "import re\n",
    "import time"
   ]
  },
  {
   "cell_type": "code",
   "execution_count": 2,
   "id": "b5857a30",
   "metadata": {
    "ExecuteTime": {
     "end_time": "2022-09-25T11:33:02.755146Z",
     "start_time": "2022-09-25T11:33:01.770430Z"
    }
   },
   "outputs": [],
   "source": [
    "driver = webdriver.Edge()"
   ]
  },
  {
   "cell_type": "code",
   "execution_count": 3,
   "id": "00160819",
   "metadata": {
    "ExecuteTime": {
     "end_time": "2022-09-25T11:33:08.107707Z",
     "start_time": "2022-09-25T11:33:05.640577Z"
    }
   },
   "outputs": [],
   "source": [
    "# 进入一位微博用户的主页\n",
    "driver.get(\"https://weibo.com/2398293313/profile?topnav=1&wvr=6&is_all=1\")"
   ]
  },
  {
   "cell_type": "code",
   "execution_count": 6,
   "id": "75095347",
   "metadata": {
    "ExecuteTime": {
     "end_time": "2022-09-25T11:33:57.151146Z",
     "start_time": "2022-09-25T11:33:56.947264Z"
    }
   },
   "outputs": [],
   "source": [
    "# 从个人主页进入粉丝一栏，可能需要扫码\n",
    "driver.find_elements(By.PARTIAL_LINK_TEXT, value=\"粉丝\")[0].click()"
   ]
  },
  {
   "cell_type": "code",
   "execution_count": 7,
   "id": "e861e4a5",
   "metadata": {
    "ExecuteTime": {
     "end_time": "2022-09-25T11:34:02.734808Z",
     "start_time": "2022-09-25T11:34:02.719662Z"
    }
   },
   "outputs": [
    {
     "data": {
      "text/plain": [
       "[<selenium.webdriver.remote.webelement.WebElement (session=\"2c9432c5d170c91a9894352c9c56505a\", element=\"19dbc1fd-922b-46a0-9ac9-47d062ae9215\")>,\n",
       " <selenium.webdriver.remote.webelement.WebElement (session=\"2c9432c5d170c91a9894352c9c56505a\", element=\"59041e46-3bd2-4052-acfb-776048361bc5\")>,\n",
       " <selenium.webdriver.remote.webelement.WebElement (session=\"2c9432c5d170c91a9894352c9c56505a\", element=\"5580f381-604a-485a-8e4e-2cbc486d53ae\")>,\n",
       " <selenium.webdriver.remote.webelement.WebElement (session=\"2c9432c5d170c91a9894352c9c56505a\", element=\"56ce0234-20cd-42ad-87e6-9e7455fe21ee\")>,\n",
       " <selenium.webdriver.remote.webelement.WebElement (session=\"2c9432c5d170c91a9894352c9c56505a\", element=\"a1d7d504-c6ea-424b-b64e-513209d292d5\")>,\n",
       " <selenium.webdriver.remote.webelement.WebElement (session=\"2c9432c5d170c91a9894352c9c56505a\", element=\"ddcb56b9-3b01-44f0-b25a-a0af85497292\")>,\n",
       " <selenium.webdriver.remote.webelement.WebElement (session=\"2c9432c5d170c91a9894352c9c56505a\", element=\"b68cfaa8-91ec-4b4c-9054-c5d10c650242\")>,\n",
       " <selenium.webdriver.remote.webelement.WebElement (session=\"2c9432c5d170c91a9894352c9c56505a\", element=\"a0cc1535-bf16-450d-a3de-cea94afd08b5\")>,\n",
       " <selenium.webdriver.remote.webelement.WebElement (session=\"2c9432c5d170c91a9894352c9c56505a\", element=\"528108ca-82ae-472b-bc62-4b11000d55fa\")>,\n",
       " <selenium.webdriver.remote.webelement.WebElement (session=\"2c9432c5d170c91a9894352c9c56505a\", element=\"b671e3f0-108a-475f-b5b1-70bc5fc886a1\")>,\n",
       " <selenium.webdriver.remote.webelement.WebElement (session=\"2c9432c5d170c91a9894352c9c56505a\", element=\"a8ec7834-e743-4410-b59f-e12cbf2b1f56\")>,\n",
       " <selenium.webdriver.remote.webelement.WebElement (session=\"2c9432c5d170c91a9894352c9c56505a\", element=\"99d4afa6-f01d-47e5-be9b-c3e553836270\")>,\n",
       " <selenium.webdriver.remote.webelement.WebElement (session=\"2c9432c5d170c91a9894352c9c56505a\", element=\"ceb73310-5cc3-42ad-9301-1cc73287fb4a\")>,\n",
       " <selenium.webdriver.remote.webelement.WebElement (session=\"2c9432c5d170c91a9894352c9c56505a\", element=\"8d717b1f-e734-4308-8b97-e77e3edf8c9b\")>,\n",
       " <selenium.webdriver.remote.webelement.WebElement (session=\"2c9432c5d170c91a9894352c9c56505a\", element=\"39eb6625-7c23-46e7-aad6-95bf83c28c27\")>,\n",
       " <selenium.webdriver.remote.webelement.WebElement (session=\"2c9432c5d170c91a9894352c9c56505a\", element=\"0754f15f-057c-4407-8120-6660a26feee1\")>,\n",
       " <selenium.webdriver.remote.webelement.WebElement (session=\"2c9432c5d170c91a9894352c9c56505a\", element=\"e66a3518-525e-41cc-bc33-36d6cd94833f\")>,\n",
       " <selenium.webdriver.remote.webelement.WebElement (session=\"2c9432c5d170c91a9894352c9c56505a\", element=\"9af11782-6033-4188-af6e-11ec2bdb18c7\")>,\n",
       " <selenium.webdriver.remote.webelement.WebElement (session=\"2c9432c5d170c91a9894352c9c56505a\", element=\"aa662fff-b1c0-4ea6-a7d3-ec5d24510635\")>,\n",
       " <selenium.webdriver.remote.webelement.WebElement (session=\"2c9432c5d170c91a9894352c9c56505a\", element=\"84427b31-e3b1-4f80-a7ec-e9128ffaeb54\")>]"
      ]
     },
     "execution_count": 7,
     "metadata": {},
     "output_type": "execute_result"
    }
   ],
   "source": [
    "# 在粉丝一栏识别出每个粉丝的ID\n",
    "driver.find_elements(By.CLASS_NAME, value=\"follow_item\")"
   ]
  },
  {
   "cell_type": "code",
   "execution_count": 16,
   "id": "147b65ef",
   "metadata": {
    "ExecuteTime": {
     "end_time": "2022-09-25T11:39:39.963073Z",
     "start_time": "2022-09-25T11:39:39.954074Z"
    }
   },
   "outputs": [
    {
     "data": {
      "text/plain": [
       "'https://weibo.com/2398293313/fans?cfs=600&relate=fans&t=1&f=1&type=&Pl_Official_RelationFans__83_page=1#Pl_Official_RelationFans__83'"
      ]
     },
     "execution_count": 16,
     "metadata": {},
     "output_type": "execute_result"
    }
   ],
   "source": [
    "# 现网页的 url\n",
    "url = driver.current_url\n",
    "url"
   ]
  },
  {
   "cell_type": "code",
   "execution_count": 17,
   "id": "7535124a",
   "metadata": {
    "ExecuteTime": {
     "end_time": "2022-09-25T11:39:42.701444Z",
     "start_time": "2022-09-25T11:39:42.698444Z"
    }
   },
   "outputs": [],
   "source": [
    "# 粉丝界面翻下一页\n",
    "# driver.find_elements(By.CLASS_NAME, value=\"next\")"
   ]
  },
  {
   "cell_type": "code",
   "execution_count": 18,
   "id": "97c3b738",
   "metadata": {
    "ExecuteTime": {
     "end_time": "2022-09-25T11:44:57.282011Z",
     "start_time": "2022-09-25T11:39:43.464904Z"
    },
    "scrolled": false
   },
   "outputs": [
    {
     "name": "stdout",
     "output_type": "stream",
     "text": [
      "https://weibo.com/2398293313/fans?cfs=600&relate=fans&t=1&f=1&type=&Pl_Official_RelationFans__83_page=2#Pl_Official_RelationFans__83\n",
      "1/7\n",
      "https://weibo.com/2398293313/fans?pids=Pl_Official_RelationFans__83&cfs=600&relate=fans&t=1&f=1&type=&Pl_Official_RelationFans__83_page=3#Pl_Official_RelationFans__83\n",
      "2/7\n",
      "https://weibo.com/2398293313/fans?cfs=600&relate=fans&t=1&f=1&type=&Pl_Official_RelationFans__83_page=3#Pl_Official_RelationFans__83\n",
      "3/7\n",
      "https://weibo.com/2398293313/fans?pids=Pl_Official_RelationFans__83&cfs=600&relate=fans&t=1&f=1&type=&Pl_Official_RelationFans__83_page=4#Pl_Official_RelationFans__83\n",
      "4/7\n",
      "https://weibo.com/2398293313/fans?cfs=600&relate=fans&t=1&f=1&type=&Pl_Official_RelationFans__83_page=4#Pl_Official_RelationFans__83\n",
      "5/7\n",
      "https://weibo.com/2398293313/fans?pids=Pl_Official_RelationFans__83&cfs=600&relate=fans&t=1&f=1&type=&Pl_Official_RelationFans__83_page=4#Pl_Official_RelationFans__83\n",
      "6/7\n",
      "https://weibo.com/2398293313/fans?cfs=600&relate=fans&t=1&f=1&type=&Pl_Official_RelationFans__83_page=4#Pl_Official_RelationFans__83\n",
      "7/7\n"
     ]
    }
   ],
   "source": [
    "nick = []\n",
    "for page in range(1, 8):\n",
    "    driver.execute_script(\"document.body.scrollHeight\")\n",
    "    time.sleep(5)\n",
    "    content = driver.page_source\n",
    "    nick = nick + re.findall(pattern=\"[\\s]alt=[\\\"](\\S+)[\\\"][\\s]src=\", string=content)\n",
    "    while driver.current_url == url:\n",
    "        driver.execute_script(\"document.body.scrollTop\")\n",
    "        time.sleep(5)\n",
    "        driver.execute_script(\"document.body.scrollHeight\")\n",
    "        time.sleep(5)\n",
    "        try:\n",
    "            driver.find_elements(By.CLASS_NAME, value=\"next\")[0].click()\n",
    "        except:\n",
    "            continue\n",
    "    url = driver.current_url\n",
    "    print(driver.current_url)\n",
    "    print(f\"{page}/7\")\n",
    "    time.sleep(15)"
   ]
  },
  {
   "cell_type": "code",
   "execution_count": 19,
   "id": "5a159958",
   "metadata": {
    "ExecuteTime": {
     "end_time": "2022-09-25T11:45:19.490681Z",
     "start_time": "2022-09-25T11:45:19.485680Z"
    }
   },
   "outputs": [
    {
     "data": {
      "text/plain": [
       "['小欢子呀-',\n",
       " 'LybLydia',\n",
       " '皮皮鲁啦咿呀呦',\n",
       " '明天好热',\n",
       " 'MeiosisMe',\n",
       " '4英44',\n",
       " '樊Fanxichang',\n",
       " '神经病自觉离开',\n",
       " '还要多久才天黑',\n",
       " '水冷芳汀',\n",
       " '黄粱梦我',\n",
       " '王狗迪同学',\n",
       " 'HaLunatic',\n",
       " '吃藕少年张二狗',\n",
       " '懿怣',\n",
       " '一吃冒菜就犯困',\n",
       " '艿目',\n",
       " 'Olia_Lu',\n",
       " 'LH7-Ling',\n",
       " '期有爱我所爱',\n",
       " '水土木火金',\n",
       " 'Casher_for_a_life',\n",
       " '小刘卷不动了',\n",
       " '长歌莫问相知处',\n",
       " '不是9本',\n",
       " '大橙子小米粒',\n",
       " '还是那个Qiao',\n",
       " '无乜XX',\n",
       " '-剪一片云揉成团团',\n",
       " 'Zou-Lixin',\n",
       " '我系一只喵喵喵喵喵',\n",
       " '马一毛',\n",
       " 'Dr成功的老妈',\n",
       " '何人不知去',\n",
       " '头名字K',\n",
       " 'Uranus26',\n",
       " '大脑空空如也的诸葛中华',\n",
       " 'Waynes_Comic_Note01',\n",
       " '想吃熔岩蛋糕',\n",
       " '这货不是卓别林',\n",
       " '没有睡着',\n",
       " '晕晕小羊',\n",
       " '黒布龍東',\n",
       " 'SomeoneSaysHoney',\n",
       " '平行空间的亮亮',\n",
       " '-TaoChen-',\n",
       " '燕麦拿铁大杯温热',\n",
       " 'crispi',\n",
       " '天然卷令人头秃',\n",
       " '再喝一口好吗',\n",
       " 'Callicles-',\n",
       " '没气的可乐笑怡',\n",
       " '牛油果不想水逆了',\n",
       " '南京热心市民龚女士',\n",
       " '北北北闻丶',\n",
       " '今天也是爆炸头',\n",
       " 'Unyeah',\n",
       " 'pancake酱',\n",
       " '平井桃真的很甜',\n",
       " 'tangjie201311']"
      ]
     },
     "execution_count": 19,
     "metadata": {},
     "output_type": "execute_result"
    }
   ],
   "source": [
    "nick = list(set(nick))\n",
    "nick"
   ]
  },
  {
   "cell_type": "code",
   "execution_count": null,
   "id": "db658c7b",
   "metadata": {},
   "outputs": [],
   "source": []
  }
 ],
 "metadata": {
  "kernelspec": {
   "display_name": "Python 3 (ipykernel)",
   "language": "python",
   "name": "python3"
  },
  "language_info": {
   "codemirror_mode": {
    "name": "ipython",
    "version": 3
   },
   "file_extension": ".py",
   "mimetype": "text/x-python",
   "name": "python",
   "nbconvert_exporter": "python",
   "pygments_lexer": "ipython3",
   "version": "3.9.13"
  },
  "toc": {
   "base_numbering": 1,
   "nav_menu": {},
   "number_sections": false,
   "sideBar": true,
   "skip_h1_title": true,
   "title_cell": "Table of Contents",
   "title_sidebar": "Contents",
   "toc_cell": false,
   "toc_position": {},
   "toc_section_display": true,
   "toc_window_display": false
  },
  "varInspector": {
   "cols": {
    "lenName": 16,
    "lenType": 16,
    "lenVar": 40
   },
   "kernels_config": {
    "python": {
     "delete_cmd_postfix": "",
     "delete_cmd_prefix": "del ",
     "library": "var_list.py",
     "varRefreshCmd": "print(var_dic_list())"
    },
    "r": {
     "delete_cmd_postfix": ") ",
     "delete_cmd_prefix": "rm(",
     "library": "var_list.r",
     "varRefreshCmd": "cat(var_dic_list()) "
    }
   },
   "types_to_exclude": [
    "module",
    "function",
    "builtin_function_or_method",
    "instance",
    "_Feature"
   ],
   "window_display": false
  }
 },
 "nbformat": 4,
 "nbformat_minor": 5
}
